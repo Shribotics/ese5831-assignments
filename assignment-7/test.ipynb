{
 "cells": [
  {
   "cell_type": "code",
   "execution_count": 1,
   "metadata": {},
   "outputs": [],
   "source": [
    "import tensorflow as tf"
   ]
  },
  {
   "cell_type": "code",
   "execution_count": 2,
   "metadata": {},
   "outputs": [],
   "source": [
    "from tensorflow.keras.datasets import mnist"
   ]
  },
  {
   "cell_type": "code",
   "execution_count": 26,
   "metadata": {},
   "outputs": [],
   "source": [
    "(train_images, train_labels), (test_images, test_data) = mnist.load_data()\n",
    "input_size = train_images.shape[1]* train_images.shape[2]\n",
    "train_size = train_images.shape[0]\n",
    "test_size = test_images.shape[0]"
   ]
  },
  {
   "cell_type": "code",
   "execution_count": 27,
   "metadata": {},
   "outputs": [
    {
     "data": {
      "text/plain": [
       "60000"
      ]
     },
     "execution_count": 27,
     "metadata": {},
     "output_type": "execute_result"
    }
   ],
   "source": [
    "train_size"
   ]
  },
  {
   "cell_type": "code",
   "execution_count": 5,
   "metadata": {},
   "outputs": [],
   "source": [
    "from tensorflow import keras\n",
    "from tensorflow.keras import layers"
   ]
  },
  {
   "cell_type": "code",
   "execution_count": 7,
   "metadata": {},
   "outputs": [],
   "source": [
    "model = keras.Sequential([\n",
    "    layers.Dense(100, activation=\"relu\"),\n",
    "    layers.Dense(10, activation = \"softmax\")\n",
    "])"
   ]
  },
  {
   "cell_type": "code",
   "execution_count": 8,
   "metadata": {},
   "outputs": [],
   "source": [
    "model.compile(optimizer= \"rmsprop\" ,\n",
    "              loss= \"sparse_categorical_crossentropy\" ,\n",
    "              metrics= \"accuracy\")"
   ]
  },
  {
   "cell_type": "code",
   "execution_count": 28,
   "metadata": {},
   "outputs": [],
   "source": [
    "train_images = train_images.reshape(train_size, input_size)\n",
    "train_images = train_images.astype(\"float32\") /255\n",
    "test_images = test_images.reshape(test_size, input_size)\n",
    "test_images = test_images.astype(\"float32\") /255\n"
   ]
  },
  {
   "cell_type": "code",
   "execution_count": 29,
   "metadata": {},
   "outputs": [
    {
     "data": {
      "text/plain": [
       "(60000, 784)"
      ]
     },
     "execution_count": 29,
     "metadata": {},
     "output_type": "execute_result"
    }
   ],
   "source": [
    "train_images.shape"
   ]
  },
  {
   "cell_type": "code",
   "execution_count": 31,
   "metadata": {},
   "outputs": [
    {
     "name": "stdout",
     "output_type": "stream",
     "text": [
      "Epoch 1/10\n",
      "938/938 [==============================] - 3s 2ms/step - loss: 0.3041 - accuracy: 0.9151\n",
      "Epoch 2/10\n",
      "938/938 [==============================] - 2s 2ms/step - loss: 0.1459 - accuracy: 0.9580\n",
      "Epoch 3/10\n",
      "938/938 [==============================] - 2s 2ms/step - loss: 0.1029 - accuracy: 0.9701\n",
      "Epoch 4/10\n",
      "938/938 [==============================] - 2s 2ms/step - loss: 0.0812 - accuracy: 0.9757\n",
      "Epoch 5/10\n",
      "938/938 [==============================] - 2s 2ms/step - loss: 0.0671 - accuracy: 0.9802\n",
      "Epoch 6/10\n",
      "938/938 [==============================] - 2s 2ms/step - loss: 0.0563 - accuracy: 0.9835\n",
      "Epoch 7/10\n",
      "938/938 [==============================] - 2s 2ms/step - loss: 0.0484 - accuracy: 0.9855\n",
      "Epoch 8/10\n",
      "938/938 [==============================] - 2s 2ms/step - loss: 0.0424 - accuracy: 0.9876\n",
      "Epoch 9/10\n",
      "938/938 [==============================] - 2s 2ms/step - loss: 0.0372 - accuracy: 0.9891\n",
      "Epoch 10/10\n",
      "938/938 [==============================] - 2s 2ms/step - loss: 0.0318 - accuracy: 0.9906\n"
     ]
    },
    {
     "data": {
      "text/plain": [
       "<keras.src.callbacks.History at 0x2641487d360>"
      ]
     },
     "execution_count": 31,
     "metadata": {},
     "output_type": "execute_result"
    }
   ],
   "source": [
    "model.fit(train_images, train_labels, epochs= 10 , batch_size= 64)"
   ]
  },
  {
   "cell_type": "code",
   "execution_count": 32,
   "metadata": {},
   "outputs": [
    {
     "name": "stdout",
     "output_type": "stream",
     "text": [
      "1/1 [==============================] - 0s 80ms/step\n"
     ]
    }
   ],
   "source": [
    "test_digits = test_images[500:510]\n",
    "predictions = model.predict(test_digits)"
   ]
  },
  {
   "cell_type": "code",
   "execution_count": 33,
   "metadata": {},
   "outputs": [
    {
     "data": {
      "text/plain": [
       "array([[7.3563637e-18, 1.1331518e-13, 4.5433859e-10, 1.0000000e+00,\n",
       "        8.6732862e-15, 2.2588693e-09, 1.6686582e-23, 4.9816802e-13,\n",
       "        2.6080321e-10, 4.6335592e-11],\n",
       "       [1.5326536e-08, 2.9946443e-15, 2.6654695e-07, 1.0016161e-05,\n",
       "        5.4189853e-10, 1.0555072e-10, 1.2500583e-13, 3.0488934e-07,\n",
       "        2.7904150e-08, 9.9998939e-01],\n",
       "       [1.8203050e-10, 4.0187427e-07, 4.8355475e-09, 2.8682410e-04,\n",
       "        2.7917864e-09, 9.9968588e-01, 1.3213518e-10, 1.4956965e-08,\n",
       "        2.7591207e-06, 2.4212963e-05],\n",
       "       [8.0419029e-14, 5.8149333e-15, 1.0000000e+00, 7.0406427e-09,\n",
       "        1.5013740e-13, 1.8923153e-17, 3.4901680e-16, 2.7667877e-11,\n",
       "        3.6385578e-12, 1.6486738e-19],\n",
       "       [1.6237019e-08, 9.9586970e-01, 3.7786276e-06, 1.4276421e-05,\n",
       "        2.0010273e-04, 6.4679602e-07, 6.0243588e-07, 3.6390105e-03,\n",
       "        2.2618350e-04, 4.5698886e-05],\n",
       "       [3.5980289e-14, 1.1006475e-09, 2.0800401e-06, 9.9990249e-01,\n",
       "        3.3539554e-18, 1.7821846e-07, 1.3821114e-18, 3.6154632e-13,\n",
       "        9.5231364e-05, 2.2876456e-09],\n",
       "       [4.1869544e-08, 9.9982017e-01, 5.0142025e-06, 1.6486500e-07,\n",
       "        1.7591012e-05, 1.2538256e-06, 2.2860368e-06, 6.4163680e-05,\n",
       "        8.9054498e-05, 1.9007722e-07],\n",
       "       [5.8926310e-07, 4.4611525e-03, 3.3461771e-04, 8.1308311e-01,\n",
       "        9.8553304e-05, 1.6105442e-01, 3.6786201e-07, 4.7330577e-08,\n",
       "        2.0951148e-02, 1.6010692e-05],\n",
       "       [5.2052889e-07, 6.9777522e-09, 1.8050355e-06, 2.4508562e-09,\n",
       "        1.5447689e-09, 3.7076368e-03, 9.9613130e-01, 8.9945690e-14,\n",
       "        1.5870051e-04, 1.9698451e-08],\n",
       "       [1.1903493e-09, 3.4486579e-08, 1.0163863e-09, 1.3165535e-04,\n",
       "        1.7945020e-12, 9.9959737e-01, 1.9441926e-10, 7.0747179e-11,\n",
       "        1.5129719e-05, 2.5579979e-04]], dtype=float32)"
      ]
     },
     "execution_count": 33,
     "metadata": {},
     "output_type": "execute_result"
    }
   ],
   "source": [
    "predictions"
   ]
  },
  {
   "cell_type": "code",
   "execution_count": 36,
   "metadata": {},
   "outputs": [
    {
     "name": "stdout",
     "output_type": "stream",
     "text": [
      "500th number in the test is predicted as 3\n"
     ]
    },
    {
     "data": {
      "image/png": "[encoded data removed]",
      "text/plain": [
       "<Figure size 640x480 with 1 Axes>"
      ]
     },
     "metadata": {},
     "output_type": "display_data"
    }
   ],
   "source": [
    "import matplotlib.pyplot as plt\n",
    "\n",
    "img = test_images[500].reshape(28,28)\n",
    "img.shape\n",
    "plt.imshow(img)\n",
    "predicated_digit = predictions[0].argmax()\n",
    "print(f\"500th number in the test is predicted as {predicated_digit}\")\n",
    "\n"
   ]
  },
  {
   "cell_type": "code",
   "execution_count": null,
   "metadata": {},
   "outputs": [],
   "source": []
  }
 ],
 "metadata": {
  "kernelspec": {
   "display_name": "ece5831-2023-py3.10",
   "language": "python",
   "name": "python3"
  },
  "language_info": {
   "codemirror_mode": {
    "name": "ipython",
    "version": 3
   },
   "file_extension": ".py",
   "mimetype": "text/x-python",
   "name": "python",
   "nbconvert_exporter": "python",
   "pygments_lexer": "ipython3",
   "version": "3.10.13"
  }
 },
 "nbformat": 4,
 "nbformat_minor": 2
}
