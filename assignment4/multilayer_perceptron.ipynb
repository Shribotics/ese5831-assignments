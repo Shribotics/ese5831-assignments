{
 "cells": [
  {
   "cell_type": "markdown",
   "metadata": {},
   "source": [
    "## Multilayer Preceptron"
   ]
  },
  {
   "cell_type": "code",
   "execution_count": 30,
   "metadata": {},
   "outputs": [],
   "source": [
    "import matplotlib.pyplot as plt"
   ]
  },
  {
   "cell_type": "code",
   "execution_count": 31,
   "metadata": {},
   "outputs": [],
   "source": [
    "import numpy as np"
   ]
  },
  {
   "cell_type": "code",
   "execution_count": 32,
   "metadata": {},
   "outputs": [],
   "source": [
    "x1, x2 = 3,7\n",
    "x = np.array([x1,x2])"
   ]
  },
  {
   "cell_type": "code",
   "execution_count": 33,
   "metadata": {},
   "outputs": [
    {
     "data": {
      "text/plain": [
       "array([3, 7])"
      ]
     },
     "execution_count": 33,
     "metadata": {},
     "output_type": "execute_result"
    }
   ],
   "source": [
    "x"
   ]
  },
  {
   "cell_type": "code",
   "execution_count": 34,
   "metadata": {},
   "outputs": [],
   "source": [
    "w = np.array([ [1,3,5],[2,4,6]])"
   ]
  },
  {
   "cell_type": "code",
   "execution_count": 35,
   "metadata": {},
   "outputs": [
    {
     "data": {
      "text/plain": [
       "(2, 3)"
      ]
     },
     "execution_count": 35,
     "metadata": {},
     "output_type": "execute_result"
    }
   ],
   "source": [
    "x.shape\n",
    "w.shape"
   ]
  },
  {
   "cell_type": "code",
   "execution_count": 36,
   "metadata": {},
   "outputs": [
    {
     "data": {
      "text/plain": [
       "array([17, 37, 57])"
      ]
     },
     "execution_count": 36,
     "metadata": {},
     "output_type": "execute_result"
    }
   ],
   "source": [
    "np.dot(x,w)\n"
   ]
  },
  {
   "cell_type": "markdown",
   "metadata": {},
   "source": [
    "##Lets get z(1)"
   ]
  },
  {
   "cell_type": "code",
   "execution_count": 37,
   "metadata": {},
   "outputs": [],
   "source": [
    "x = np.array([0.7,0.8])\n",
    "w1 = np.array([[0.5,0.6,0.7],[0.1,0.2,0.3]])\n",
    "b1 = np.array([0.2,0.3,0.9])\n",
    "\n",
    "a1 = np.dot(x,w1) + b1"
   ]
  },
  {
   "cell_type": "markdown",
   "metadata": {},
   "source": [
    "# Define sigmoid"
   ]
  },
  {
   "cell_type": "code",
   "execution_count": 38,
   "metadata": {},
   "outputs": [],
   "source": [
    "def sigmoid(s):\n",
    "    return 1/(1 + np.exp(-s))"
   ]
  },
  {
   "cell_type": "code",
   "execution_count": 39,
   "metadata": {},
   "outputs": [],
   "source": [
    "z1 = sigmoid(a1)"
   ]
  },
  {
   "cell_type": "code",
   "execution_count": 40,
   "metadata": {},
   "outputs": [
    {
     "data": {
      "text/plain": [
       "array([0.65248946, 0.70682222, 0.83616964])"
      ]
     },
     "execution_count": 40,
     "metadata": {},
     "output_type": "execute_result"
    }
   ],
   "source": [
    "z1"
   ]
  },
  {
   "cell_type": "code",
   "execution_count": 41,
   "metadata": {},
   "outputs": [],
   "source": [
    "w2 = np.array([[0.5,0.6],[0.1,0.2],[0.3,0.7]])\n",
    "b2 = np.array([0.2,0.9])\n",
    "\n",
    "a2 = np.dot(z1,w2) + b2"
   ]
  },
  {
   "cell_type": "code",
   "execution_count": 42,
   "metadata": {},
   "outputs": [],
   "source": [
    "z2 = sigmoid(a2)"
   ]
  },
  {
   "cell_type": "code",
   "execution_count": 43,
   "metadata": {},
   "outputs": [],
   "source": [
    "def identity_function(z):\n",
    "    return z"
   ]
  },
  {
   "cell_type": "code",
   "execution_count": 44,
   "metadata": {},
   "outputs": [],
   "source": [
    "y  = identity_function(z2)"
   ]
  },
  {
   "cell_type": "code",
   "execution_count": 45,
   "metadata": {},
   "outputs": [
    {
     "data": {
      "text/plain": [
       "array([0.70010079, 0.88269236])"
      ]
     },
     "execution_count": 45,
     "metadata": {},
     "output_type": "execute_result"
    }
   ],
   "source": [
    "y"
   ]
  },
  {
   "cell_type": "code",
   "execution_count": 46,
   "metadata": {},
   "outputs": [],
   "source": [
    "def init_network():\n",
    "    network = {}\n",
    "    network['w1'] = np.array([[0.5,0.6,0.7],[0.1,0.2,0.3]])\n",
    "    network ['b1'] = np.array([0.2,0.3,0.9])\n",
    "    network['w2'] = np.array([[0.5,0.6],[0.1,0.2],[0.3,0.7]])\n",
    "    network ['b2'] = np.array([0.2,0.9])\n",
    "    network['w3'] = np.array([[0.5,0.4],[0.1254,0.2463]])\n",
    "    network ['b3'] = np.array([0.2546164,0.9565465])\n",
    "\n",
    "    return network\n"
   ]
  },
  {
   "cell_type": "code",
   "execution_count": 47,
   "metadata": {},
   "outputs": [],
   "source": [
    "def forward(network, x):\n",
    "    w1,w2,w3 = network['w1'], network['w2'], network['w3']\n",
    "    b1,b2,b3 = network['b1'], network['b2'], network['b3']\n",
    "\n",
    "    a1 = np.dot(x,w1) + b1\n",
    "    z1 = sigmoid(a1)\n",
    "\n",
    "    a2 = np.dot(z1,w2) + b2\n",
    "    z2 = sigmoid(a2)\n",
    "\n",
    "    a3 = np.dot(z2,w3) + b3\n",
    "    y = identity_function(a3)\n",
    "\n",
    "    return y\n"
   ]
  },
  {
   "cell_type": "code",
   "execution_count": 48,
   "metadata": {},
   "outputs": [],
   "source": [
    "network = init_network()\n",
    "x = np.array([0.13554, 0.448765])\n",
    "y = forward(network, x)"
   ]
  },
  {
   "cell_type": "code",
   "execution_count": 68,
   "metadata": {},
   "outputs": [],
   "source": [
    "class MultilyerPerceptron():\n",
    "    def __init__(self):\n",
    "        self.network = {}\n",
    "        self.network['w1'] = np.array([[0.5,0.6,0.7],[0.1,0.2,0.3]])\n",
    "        self.network ['b1'] = np.array([0.2,0.3,0.9])\n",
    "        self.network['w2'] = np.array([[0.5,0.6],[0.1,0.2],[0.3,0.7]])\n",
    "        self.network ['b2'] = np.array([0.2,0.9])\n",
    "        self.network['w3'] = np.array([[0.5,0.4],[0.1254,0.2463]])\n",
    "        self.network ['b3'] = np.array([0.2546164,0.9565465])\n",
    "\n",
    "    def sigmoid(self,s):\n",
    "        return 1/(1 + np.exp(-s))\n",
    "\n",
    "    def identity_function(self, s):\n",
    "        return s\n",
    "    \n",
    "\n",
    "    def forward(self, x):\n",
    "        w1,w2,w3 = self.network['w1'], self.network['w2'], self.network['w3']\n",
    "        b1,b2,b3 = self.network['b1'], self.network['b2'], self.network['b3']\n",
    "\n",
    "        a1 = np.dot(x,w1) + b1\n",
    "        z1 = self.sigmoid(a1)\n",
    "\n",
    "        a2 = np.dot(z1,w2) + b2\n",
    "        z2 = self.sigmoid(a2)\n",
    "\n",
    "        a3 = np.dot(z2,w3) + b3\n",
    "        y = self.identity_function(a3)\n",
    "\n",
    "        return y"
   ]
  },
  {
   "cell_type": "code",
   "execution_count": 70,
   "metadata": {},
   "outputs": [
    {
     "name": "stdout",
     "output_type": "stream",
     "text": [
      "[[0.70672522 1.4452845 ]]\n"
     ]
    }
   ],
   "source": [
    "mlp = MultilyerPerceptron()\n",
    "y = mlp.forward(np.array([[0.25423, 0.1694464]]))\n",
    "print(y)"
   ]
  }
 ],
 "metadata": {
  "kernelspec": {
   "display_name": "ece5831-2023",
   "language": "python",
   "name": "python3"
  },
  "language_info": {
   "codemirror_mode": {
    "name": "ipython",
    "version": 3
   },
   "file_extension": ".py",
   "mimetype": "text/x-python",
   "name": "python",
   "nbconvert_exporter": "python",
   "pygments_lexer": "ipython3",
   "version": "3.8.18"
  },
  "orig_nbformat": 4
 },
 "nbformat": 4,
 "nbformat_minor": 2
}
