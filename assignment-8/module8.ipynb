{
 "cells": [
  {
   "cell_type": "markdown",
   "metadata": {},
   "source": []
  },
  {
   "cell_type": "code",
   "execution_count": 1,
   "metadata": {},
   "outputs": [],
   "source": [
    "import os\n",
    "import shutil"
   ]
  },
  {
   "cell_type": "code",
   "execution_count": null,
   "metadata": {},
   "outputs": [],
   "source": []
  },
  {
   "cell_type": "code",
   "execution_count": 3,
   "metadata": {},
   "outputs": [],
   "source": [
    "#data_filename = \"dogs-vs-cats.zip\"\n",
    "data_from_kaggle = \"data-from-kaggle/train/train\"\n",
    "#data_from_kaggle_test = \"data-from-kaggle/test1\"\n",
    "data_dirname = \"dogs-vs-cats\""
   ]
  },
  {
   "cell_type": "code",
   "execution_count": 4,
   "metadata": {},
   "outputs": [],
   "source": [
    "# subset_name: train, validation, test\n",
    "def make_dataset(subset_name, start_idx, end_idx):\n",
    "    for category in { \"cat\", \"dog\" }:\n",
    "       # data_dirname/subset_name/categoroy \n",
    "       dir = f\"{data_dirname}/{subset_name}/{category}\"\n",
    "       # print(dir)\n",
    "       os.makedirs(dir)\n",
    "       fnames = [f\"{category}.{i}.jpg\" for i in range(start_idx, end_idx)]\n",
    "       # print(fnames)\n",
    "       for fname in fnames: \n",
    "             shutil.copyfile(src=f\"{data_from_kaggle}/{fname}\", dst=f\"{dir}/{fname}\") "
   ]
  },
  {
   "cell_type": "code",
   "execution_count": null,
   "metadata": {},
   "outputs": [],
   "source": [
    "# total: 25,000/2 = 12,500 cats and dogs\n",
    "# 12,500*.6 = 7,500\n",
    "# training: 25*0.2 = 7500\n",
    "# test and val: 2,500 each\n",
    "make_dataset(\"train\", 0, 7500)\n",
    "make_dataset(\"validation\", 7501, 10000)\n",
    "# total: 12,500\n",
    "make_dataset(\"test\", 10001, 12500)"
   ]
  },
  {
   "cell_type": "code",
   "execution_count": 6,
   "metadata": {},
   "outputs": [],
   "source": [
    "from tensorflow import keras\n",
    "from tensorflow.keras import layers"
   ]
  },
  {
   "cell_type": "code",
   "execution_count": 7,
   "metadata": {},
   "outputs": [],
   "source": [
    "def build_model():\n",
    "    input = keras.Input(shape=(200, 180, 3))\n",
    "    x = layers.Rescaling(1./255)(input)\n",
    "    x = layers.Conv2D(filters=32, kernel_size=3, activation=\"relu\")(x)\n",
    "    x = layers.MaxPooling2D(pool_size=2)(x)\n",
    "    x = layers.Conv2D(filters=64, kernel_size=3, activation=\"relu\")(x)\n",
    "    x = layers.MaxPooling2D(pool_size=2)(x)\n",
    "    x = layers.Conv2D(filters=128, kernel_size=3, activation=\"relu\")(x)\n",
    "    x = layers.MaxPooling2D(pool_size=2)(x)\n",
    "    x = layers.Conv2D(filters=256, kernel_size=3, activation=\"relu\")(x)\n",
    "    x = layers.MaxPooling2D(pool_size=2)(x)\n",
    "    x = layers.Conv2D(filters=256, kernel_size=3, activation=\"relu\")(x)\n",
    "    x = layers.MaxPooling2D(pool_size=2)(x)\n",
    "    x = layers.Flatten()(x)\n",
    "    outputs = layers.Dense(1, activation=\"sigmoid\")(x)\n",
    "\n",
    "    model = keras.Model(inputs=input, outputs=outputs)\n",
    "    return model"
   ]
  },
  {
   "cell_type": "code",
   "execution_count": 8,
   "metadata": {},
   "outputs": [],
   "source": [
    "model = build_model()"
   ]
  },
  {
   "cell_type": "code",
   "execution_count": 9,
   "metadata": {},
   "outputs": [
    {
     "name": "stdout",
     "output_type": "stream",
     "text": [
      "Model: \"model\"\n",
      "_________________________________________________________________\n",
      " Layer (type)                Output Shape              Param #   \n",
      "=================================================================\n",
      " input_1 (InputLayer)        [(None, 200, 180, 3)]     0         \n",
      "                                                                 \n",
      " rescaling (Rescaling)       (None, 200, 180, 3)       0         \n",
      "                                                                 \n",
      " conv2d (Conv2D)             (None, 198, 178, 32)      896       \n",
      "                                                                 \n",
      " max_pooling2d (MaxPooling2  (None, 99, 89, 32)        0         \n",
      " D)                                                              \n",
      "                                                                 \n",
      " conv2d_1 (Conv2D)           (None, 97, 87, 64)        18496     \n",
      "                                                                 \n",
      " max_pooling2d_1 (MaxPoolin  (None, 48, 43, 64)        0         \n",
      " g2D)                                                            \n",
      "                                                                 \n",
      " conv2d_2 (Conv2D)           (None, 46, 41, 128)       73856     \n",
      "                                                                 \n",
      " max_pooling2d_2 (MaxPoolin  (None, 23, 20, 128)       0         \n",
      " g2D)                                                            \n",
      "                                                                 \n",
      " conv2d_3 (Conv2D)           (None, 21, 18, 256)       295168    \n",
      "                                                                 \n",
      " max_pooling2d_3 (MaxPoolin  (None, 10, 9, 256)        0         \n",
      " g2D)                                                            \n",
      "                                                                 \n",
      " conv2d_4 (Conv2D)           (None, 8, 7, 256)         590080    \n",
      "                                                                 \n",
      " max_pooling2d_4 (MaxPoolin  (None, 4, 3, 256)         0         \n",
      " g2D)                                                            \n",
      "                                                                 \n",
      " flatten (Flatten)           (None, 3072)              0         \n",
      "                                                                 \n",
      " dense (Dense)               (None, 1)                 3073      \n",
      "                                                                 \n",
      "=================================================================\n",
      "Total params: 981569 (3.74 MB)\n",
      "Trainable params: 981569 (3.74 MB)\n",
      "Non-trainable params: 0 (0.00 Byte)\n",
      "_________________________________________________________________\n"
     ]
    }
   ],
   "source": [
    "model.summary()"
   ]
  },
  {
   "cell_type": "code",
   "execution_count": 10,
   "metadata": {},
   "outputs": [],
   "source": [
    "model.compile(loss=\"binary_crossentropy\", optimizer=\"rmsprop\", metrics=[\"accuracy\"])"
   ]
  },
  {
   "cell_type": "code",
   "execution_count": 11,
   "metadata": {},
   "outputs": [],
   "source": [
    "from tensorflow.keras.utils import image_dataset_from_directory"
   ]
  },
  {
   "cell_type": "code",
   "execution_count": 12,
   "metadata": {},
   "outputs": [],
   "source": [
    "batch_size = 32"
   ]
  },
  {
   "cell_type": "code",
   "execution_count": 13,
   "metadata": {},
   "outputs": [
    {
     "name": "stdout",
     "output_type": "stream",
     "text": [
      "Found 15000 files belonging to 2 classes.\n",
      "Found 5996 files belonging to 2 classes.\n",
      "Found 6996 files belonging to 2 classes.\n"
     ]
    }
   ],
   "source": [
    "train_dataset = image_dataset_from_directory(f\"{data_dirname}/train\", image_size=(200, 180), batch_size=batch_size)\n",
    "validation_dataset = image_dataset_from_directory(f\"{data_dirname}/validation\", image_size=(200, 180), batch_size=batch_size)\n",
    "test_dataset = image_dataset_from_directory(f\"{data_dirname}/test\", image_size=(200, 180), batch_size=batch_size)"
   ]
  },
  {
   "cell_type": "code",
   "execution_count": 14,
   "metadata": {},
   "outputs": [],
   "source": [
    "callbacks = [ keras.callbacks.ModelCheckpoint(\n",
    "    filepath=\"module-from-scrach\",\n",
    "    save_best_only=False,\n",
    "    monitor=\"val_loss\"\n",
    ")]"
   ]
  },
  {
   "cell_type": "code",
   "execution_count": null,
   "metadata": {},
   "outputs": [
    {
     "name": "stdout",
     "output_type": "stream",
     "text": [
      "Epoch 1/10\n",
      "469/469 [==============================] - ETA: 0s - loss: 0.6337 - accuracy: 0.6273INFO:tensorflow:Assets written to: jaerock-in-class-from-scrach\\assets\n"
     ]
    },
    {
     "name": "stderr",
     "output_type": "stream",
     "text": [
      "INFO:tensorflow:Assets written to: jaerock-in-class-from-scrach\\assets\n"
     ]
    },
    {
     "name": "stdout",
     "output_type": "stream",
     "text": [
      "469/469 [==============================] - 518s 1s/step - loss: 0.6337 - accuracy: 0.6273 - val_loss: 0.5677 - val_accuracy: 0.7147\n",
      "Epoch 2/10\n",
      "469/469 [==============================] - ETA: 0s - loss: 0.5201 - accuracy: 0.7444INFO:tensorflow:Assets written to: jaerock-in-class-from-scrach\\assets\n"
     ]
    },
    {
     "name": "stderr",
     "output_type": "stream",
     "text": [
      "INFO:tensorflow:Assets written to: jaerock-in-class-from-scrach\\assets\n"
     ]
    },
    {
     "name": "stdout",
     "output_type": "stream",
     "text": [
      "469/469 [==============================] - 482s 1s/step - loss: 0.5201 - accuracy: 0.7444 - val_loss: 0.4953 - val_accuracy: 0.7679\n",
      "Epoch 3/10\n",
      "469/469 [==============================] - ETA: 0s - loss: 0.4239 - accuracy: 0.8038INFO:tensorflow:Assets written to: jaerock-in-class-from-scrach\\assets\n"
     ]
    },
    {
     "name": "stderr",
     "output_type": "stream",
     "text": [
      "INFO:tensorflow:Assets written to: jaerock-in-class-from-scrach\\assets\n"
     ]
    },
    {
     "name": "stdout",
     "output_type": "stream",
     "text": [
      "469/469 [==============================] - 478s 1s/step - loss: 0.4239 - accuracy: 0.8038 - val_loss: 0.4360 - val_accuracy: 0.7995\n",
      "Epoch 4/10\n",
      "469/469 [==============================] - ETA: 0s - loss: 0.3407 - accuracy: 0.8475INFO:tensorflow:Assets written to: jaerock-in-class-from-scrach\\assets\n"
     ]
    },
    {
     "name": "stderr",
     "output_type": "stream",
     "text": [
      "INFO:tensorflow:Assets written to: jaerock-in-class-from-scrach\\assets\n"
     ]
    },
    {
     "name": "stdout",
     "output_type": "stream",
     "text": [
      "469/469 [==============================] - 478s 1s/step - loss: 0.3407 - accuracy: 0.8475 - val_loss: 0.3273 - val_accuracy: 0.8609\n",
      "Epoch 5/10\n",
      "469/469 [==============================] - ETA: 0s - loss: 0.2738 - accuracy: 0.8802INFO:tensorflow:Assets written to: jaerock-in-class-from-scrach\\assets\n"
     ]
    },
    {
     "name": "stderr",
     "output_type": "stream",
     "text": [
      "INFO:tensorflow:Assets written to: jaerock-in-class-from-scrach\\assets\n"
     ]
    },
    {
     "name": "stdout",
     "output_type": "stream",
     "text": [
      "469/469 [==============================] - 475s 1s/step - loss: 0.2738 - accuracy: 0.8802 - val_loss: 0.3224 - val_accuracy: 0.8575\n",
      "Epoch 6/10\n",
      "469/469 [==============================] - ETA: 0s - loss: 0.2234 - accuracy: 0.9063INFO:tensorflow:Assets written to: jaerock-in-class-from-scrach\\assets\n"
     ]
    },
    {
     "name": "stderr",
     "output_type": "stream",
     "text": [
      "INFO:tensorflow:Assets written to: jaerock-in-class-from-scrach\\assets\n"
     ]
    },
    {
     "name": "stdout",
     "output_type": "stream",
     "text": [
      "469/469 [==============================] - 473s 1s/step - loss: 0.2234 - accuracy: 0.9063 - val_loss: 0.3112 - val_accuracy: 0.8675\n",
      "Epoch 7/10\n",
      "469/469 [==============================] - ETA: 0s - loss: 0.1749 - accuracy: 0.9272INFO:tensorflow:Assets written to: jaerock-in-class-from-scrach\\assets\n"
     ]
    },
    {
     "name": "stderr",
     "output_type": "stream",
     "text": [
      "INFO:tensorflow:Assets written to: jaerock-in-class-from-scrach\\assets\n"
     ]
    },
    {
     "name": "stdout",
     "output_type": "stream",
     "text": [
      "469/469 [==============================] - 479s 1s/step - loss: 0.1749 - accuracy: 0.9272 - val_loss: 0.2923 - val_accuracy: 0.8796\n",
      "Epoch 8/10\n",
      "469/469 [==============================] - ETA: 0s - loss: 0.1291 - accuracy: 0.9473INFO:tensorflow:Assets written to: jaerock-in-class-from-scrach\\assets\n"
     ]
    },
    {
     "name": "stderr",
     "output_type": "stream",
     "text": [
      "INFO:tensorflow:Assets written to: jaerock-in-class-from-scrach\\assets\n"
     ]
    },
    {
     "name": "stdout",
     "output_type": "stream",
     "text": [
      "469/469 [==============================] - 496s 1s/step - loss: 0.1291 - accuracy: 0.9473 - val_loss: 0.4455 - val_accuracy: 0.8697\n",
      "Epoch 9/10\n",
      "469/469 [==============================] - ETA: 0s - loss: 0.1055 - accuracy: 0.9588INFO:tensorflow:Assets written to: jaerock-in-class-from-scrach\\assets\n"
     ]
    },
    {
     "name": "stderr",
     "output_type": "stream",
     "text": [
      "INFO:tensorflow:Assets written to: jaerock-in-class-from-scrach\\assets\n"
     ]
    },
    {
     "name": "stdout",
     "output_type": "stream",
     "text": [
      "469/469 [==============================] - 483s 1s/step - loss: 0.1055 - accuracy: 0.9588 - val_loss: 0.4176 - val_accuracy: 0.8886\n",
      "Epoch 10/10\n",
      "469/469 [==============================] - ETA: 0s - loss: 0.0869 - accuracy: 0.9684INFO:tensorflow:Assets written to: jaerock-in-class-from-scrach\\assets\n"
     ]
    },
    {
     "name": "stderr",
     "output_type": "stream",
     "text": [
      "INFO:tensorflow:Assets written to: jaerock-in-class-from-scrach\\assets\n"
     ]
    },
    {
     "name": "stdout",
     "output_type": "stream",
     "text": [
      "469/469 [==============================] - 482s 1s/step - loss: 0.0869 - accuracy: 0.9684 - val_loss: 0.4495 - val_accuracy: 0.8824\n"
     ]
    },
    {
     "data": {
      "text/plain": [
       "<keras.src.callbacks.History at 0x20a473fd120>"
      ]
     },
     "execution_count": 41,
     "metadata": {},
     "output_type": "execute_result"
    }
   ],
   "source": [
    "model.fit(train_dataset, validation_data=validation_dataset, epochs=10, callbacks=callbacks)"
   ]
  },
  {
   "cell_type": "code",
   "execution_count": 34,
   "metadata": {},
   "outputs": [],
   "source": [
    "data_augmentation = keras.Sequential( [\n",
    "    layers.RandomFlip(\"horizontal\"),\n",
    "    layers.RandomRotation(0.2),\n",
    "    layers.RandomZoom(0.2)\n",
    "])"
   ]
  },
  {
   "cell_type": "code",
   "execution_count": 35,
   "metadata": {},
   "outputs": [],
   "source": [
    "data_augmentation = keras.Sequential( [\n",
    "    layers.RandomFlip(\"horizontal\"),\n",
    "    layers.RandomRotation(0.2),\n",
    "    layers.RandomZoom(0.2)\n",
    "])"
   ]
  },
  {
   "cell_type": "code",
   "execution_count": 36,
   "metadata": {},
   "outputs": [],
   "source": [
    "import os\n",
    "import shutil\n",
    "from tensorflow import keras\n",
    "from tensorflow.keras import layers\n",
    "from tensorflow.keras.preprocessing import image\n",
    "from tensorflow.keras.utils import image_dataset_from_directory\n",
    "\n",
    "class DogsCats:\n",
    "    def __init__(self):\n",
    "        self.model = self.build_model()\n",
    "\n",
    "    def build_model(self):\n",
    "        input = keras.Input(shape=(200, 180, 3))\n",
    "        x = layers.Rescaling(1./255)(input)\n",
    "        x = layers.Conv2D(filters=32, kernel_size=3, activation=\"relu\")(x)\n",
    "        x = layers.MaxPooling2D(pool_size=2)(x)\n",
    "        x = layers.Conv2D(filters=64, kernel_size=3, activation=\"relu\")(x)\n",
    "        x = layers.MaxPooling2D(pool_size=2)(x)\n",
    "        x = layers.Conv2D(filters=128, kernel_size=3, activation=\"relu\")(x)\n",
    "        x = layers.MaxPooling2D(pool_size=2)(x)\n",
    "        x = layers.Conv2D(filters=256, kernel_size=3, activation=\"relu\")(x)\n",
    "        x = layers.MaxPooling2D(pool_size=2)(x)\n",
    "        x = layers.Conv2D(filters=256, kernel_size=3, activation=\"relu\")(x)\n",
    "        x = layers.MaxPooling2D(pool_size=2)(x)\n",
    "        x = layers.Flatten()(x)\n",
    "        outputs = layers.Dense(1, activation=\"sigmoid\")(x)\n",
    "\n",
    "        model = keras.Model(inputs=input, outputs=outputs)\n",
    "        return model\n",
    "\n",
    "    def compile(self):\n",
    "        self.model.compile(loss=\"binary_crossentropy\", optimizer=\"rmsprop\", metrics=[\"accuracy\"])\n",
    "\n",
    "    def make_datasets(self, train_path, validation_path, test_path, batch_size=32, img_size=(200, 180)):\n",
    "        # Function to create dataset directories\n",
    "        def make_dataset(subset_name, start_idx, end_idx):\n",
    "            for category in {\"cat\", \"dog\"}:\n",
    "                subset_path = os.path.join(data_dirname, subset_name, category)\n",
    "                os.makedirs(subset_path, exist_ok=True)\n",
    "\n",
    "                for i in range(start_idx, end_idx):\n",
    "                    filename = f\"{category}.{i}.jpg\"\n",
    "                    src = os.path.join(data_from_kaggle, filename)\n",
    "                    dst = os.path.join(subset_path, filename)\n",
    "                    shutil.copyfile(src, dst)\n",
    "\n",
    "        # Create datasets with the specified number of samples\n",
    "        make_dataset(\"train\", 0, 1000)\n",
    "        make_dataset(\"validation\", 1001, 1500)\n",
    "        make_dataset(\"test\", 1501, 2500)\n",
    "\n",
    "        # Load datasets\n",
    "        train_dataset = self.create_dataset(train_path, batch_size, img_size)\n",
    "        validation_dataset = self.create_dataset(validation_path, batch_size, img_size)\n",
    "        test_dataset = self.create_dataset(test_path, batch_size, img_size)\n",
    "\n",
    "        return train_dataset, validation_dataset, test_dataset\n",
    "\n",
    "    def create_dataset(self, directory, batch_size, img_size):\n",
    "        dataset = image_dataset_from_directory(\n",
    "            directory,\n",
    "            batch_size=batch_size,\n",
    "            image_size=img_size,\n",
    "            shuffle=True,\n",
    "        )\n",
    "        return dataset\n",
    "\n",
    "    def fit(self, train_dataset, validation_dataset, epochs=10, callbacks=None):\n",
    "        history = self.model.fit(\n",
    "            train_dataset,\n",
    "            validation_data=validation_dataset,\n",
    "            epochs=epochs,\n",
    "            callbacks=callbacks\n",
    "        )\n",
    "\n",
    "        return history\n",
    "\n",
    "    def predict(self, model_name, file_name):\n",
    "        # Load the trained model\n",
    "        loaded_model = keras.models.load_model(model_name)\n",
    "\n",
    "        # Preprocess the image\n",
    "        img = image.load_img(file_name, target_size=(200, 180))\n",
    "        img_array = image.img_to_array(img)\n",
    "        img_array = img_array.reshape(1,200,180,3)\n",
    "        #img_array /= 255.0  # Normalize the image\n",
    "\n",
    "        # Make predictions\n",
    "        predictions = loaded_model.predict(img_array)\n",
    "        return predictions\n"
   ]
  },
  {
   "cell_type": "code",
   "execution_count": 51,
   "metadata": {},
   "outputs": [
    {
     "name": "stderr",
     "output_type": "stream",
     "text": [
      "WARNING:absl:Skipping variable loading for optimizer 'RMSprop', because it has 13 variables whereas the saved optimizer has 1 variables. \n"
     ]
    },
    {
     "name": "stdout",
     "output_type": "stream",
     "text": [
      "1/1 [==============================] - 0s 278ms/step\n",
      "[[0.5036149]]\n"
     ]
    }
   ],
   "source": [
    "dogs_cats = DogsCats()\n",
    "model_name = 'dogs_cats_model.keras'\n",
    "file_name = 'C:\\\\Users\\\\pawar\\\\.conda\\\\envs\\\\ece5831-2023\\\\ece5831-assignments-2023\\\\ece5831-assignments\\\\ese5831-assignments\\\\assignment-8\\\\dogs-vs-cats\\\\test\\\\dog\\\\dog.1752.jpg'\n",
    "predictions = dogs_cats.predict(model_name, file_name)\n",
    "print(predictions)\n"
   ]
  },
  {
   "cell_type": "code",
   "execution_count": 49,
   "metadata": {},
   "outputs": [
    {
     "name": "stderr",
     "output_type": "stream",
     "text": [
      "WARNING:absl:Skipping variable loading for optimizer 'RMSprop', because it has 13 variables whereas the saved optimizer has 1 variables. \n"
     ]
    },
    {
     "name": "stdout",
     "output_type": "stream",
     "text": [
      "Found 6996 files belonging to 2 classes.\n",
      "219/219 [==============================] - 67s 303ms/step - loss: 0.6929 - accuracy: 0.5016\n",
      "Test Accuracy: 0.50157231092453\n",
      "\n",
      "Predictions for Dogs:\n"
     ]
    },
    {
     "name": "stderr",
     "output_type": "stream",
     "text": [
      "WARNING:absl:Skipping variable loading for optimizer 'RMSprop', because it has 13 variables whereas the saved optimizer has 1 variables. \n"
     ]
    },
    {
     "name": "stdout",
     "output_type": "stream",
     "text": [
      "1/1 [==============================] - 0s 320ms/step\n",
      "Dog 1: 50.48% confident it's a Dog.\n"
     ]
    },
    {
     "name": "stderr",
     "output_type": "stream",
     "text": [
      "WARNING:absl:Skipping variable loading for optimizer 'RMSprop', because it has 13 variables whereas the saved optimizer has 1 variables. \n"
     ]
    },
    {
     "name": "stdout",
     "output_type": "stream",
     "text": [
      "1/1 [==============================] - 0s 355ms/step\n",
      "Dog 2: 50.49% confident it's a Dog.\n"
     ]
    },
    {
     "name": "stderr",
     "output_type": "stream",
     "text": [
      "WARNING:absl:Skipping variable loading for optimizer 'RMSprop', because it has 13 variables whereas the saved optimizer has 1 variables. \n"
     ]
    },
    {
     "name": "stdout",
     "output_type": "stream",
     "text": [
      "1/1 [==============================] - 0s 336ms/step\n",
      "Dog 3: 50.22% confident it's a Dog.\n"
     ]
    },
    {
     "name": "stderr",
     "output_type": "stream",
     "text": [
      "WARNING:absl:Skipping variable loading for optimizer 'RMSprop', because it has 13 variables whereas the saved optimizer has 1 variables. \n"
     ]
    },
    {
     "name": "stdout",
     "output_type": "stream",
     "text": [
      "1/1 [==============================] - 0s 226ms/step\n",
      "Dog 4: 50.52% confident it's a Dog.\n"
     ]
    },
    {
     "name": "stderr",
     "output_type": "stream",
     "text": [
      "WARNING:absl:Skipping variable loading for optimizer 'RMSprop', because it has 13 variables whereas the saved optimizer has 1 variables. \n"
     ]
    },
    {
     "name": "stdout",
     "output_type": "stream",
     "text": [
      "1/1 [==============================] - 0s 310ms/step\n",
      "Dog 5: 50.62% confident it's a Dog.\n"
     ]
    },
    {
     "name": "stderr",
     "output_type": "stream",
     "text": [
      "WARNING:absl:Skipping variable loading for optimizer 'RMSprop', because it has 13 variables whereas the saved optimizer has 1 variables. \n"
     ]
    },
    {
     "name": "stdout",
     "output_type": "stream",
     "text": [
      "1/1 [==============================] - 0s 360ms/step\n",
      "Dog 6: 50.74% confident it's a Dog.\n"
     ]
    },
    {
     "name": "stderr",
     "output_type": "stream",
     "text": [
      "WARNING:absl:Skipping variable loading for optimizer 'RMSprop', because it has 13 variables whereas the saved optimizer has 1 variables. \n"
     ]
    },
    {
     "name": "stdout",
     "output_type": "stream",
     "text": [
      "1/1 [==============================] - 0s 332ms/step\n",
      "Dog 7: 50.50% confident it's a Dog.\n"
     ]
    },
    {
     "name": "stderr",
     "output_type": "stream",
     "text": [
      "WARNING:absl:Skipping variable loading for optimizer 'RMSprop', because it has 13 variables whereas the saved optimizer has 1 variables. \n"
     ]
    },
    {
     "name": "stdout",
     "output_type": "stream",
     "text": [
      "1/1 [==============================] - 0s 206ms/step\n",
      "Dog 8: 50.69% confident it's a Dog.\n"
     ]
    },
    {
     "name": "stderr",
     "output_type": "stream",
     "text": [
      "WARNING:absl:Skipping variable loading for optimizer 'RMSprop', because it has 13 variables whereas the saved optimizer has 1 variables. \n"
     ]
    },
    {
     "name": "stdout",
     "output_type": "stream",
     "text": [
      "1/1 [==============================] - 0s 222ms/step\n",
      "Dog 9: 50.35% confident it's a Dog.\n"
     ]
    },
    {
     "name": "stderr",
     "output_type": "stream",
     "text": [
      "WARNING:absl:Skipping variable loading for optimizer 'RMSprop', because it has 13 variables whereas the saved optimizer has 1 variables. \n"
     ]
    },
    {
     "name": "stdout",
     "output_type": "stream",
     "text": [
      "1/1 [==============================] - 0s 356ms/step\n",
      "Dog 10: 50.44% confident it's a Dog.\n",
      "\n",
      "Predictions for Cats:\n"
     ]
    },
    {
     "name": "stderr",
     "output_type": "stream",
     "text": [
      "WARNING:absl:Skipping variable loading for optimizer 'RMSprop', because it has 13 variables whereas the saved optimizer has 1 variables. \n"
     ]
    },
    {
     "name": "stdout",
     "output_type": "stream",
     "text": [
      "1/1 [==============================] - 0s 367ms/step\n",
      "Cat 1: 50.48% confident it's a Cat.\n"
     ]
    },
    {
     "name": "stderr",
     "output_type": "stream",
     "text": [
      "WARNING:absl:Skipping variable loading for optimizer 'RMSprop', because it has 13 variables whereas the saved optimizer has 1 variables. \n"
     ]
    },
    {
     "name": "stdout",
     "output_type": "stream",
     "text": [
      "1/1 [==============================] - 0s 365ms/step\n",
      "Cat 2: 50.45% confident it's a Cat.\n"
     ]
    },
    {
     "name": "stderr",
     "output_type": "stream",
     "text": [
      "WARNING:absl:Skipping variable loading for optimizer 'RMSprop', because it has 13 variables whereas the saved optimizer has 1 variables. \n"
     ]
    },
    {
     "name": "stdout",
     "output_type": "stream",
     "text": [
      "1/1 [==============================] - 0s 367ms/step\n",
      "Cat 3: 50.38% confident it's a Cat.\n"
     ]
    },
    {
     "name": "stderr",
     "output_type": "stream",
     "text": [
      "WARNING:absl:Skipping variable loading for optimizer 'RMSprop', because it has 13 variables whereas the saved optimizer has 1 variables. \n"
     ]
    },
    {
     "name": "stdout",
     "output_type": "stream",
     "text": [
      "1/1 [==============================] - 0s 409ms/step\n",
      "Cat 4: 50.47% confident it's a Cat.\n"
     ]
    },
    {
     "name": "stderr",
     "output_type": "stream",
     "text": [
      "WARNING:absl:Skipping variable loading for optimizer 'RMSprop', because it has 13 variables whereas the saved optimizer has 1 variables. \n"
     ]
    },
    {
     "name": "stdout",
     "output_type": "stream",
     "text": [
      "1/1 [==============================] - 0s 235ms/step\n",
      "Cat 5: 50.43% confident it's a Cat.\n"
     ]
    },
    {
     "name": "stderr",
     "output_type": "stream",
     "text": [
      "WARNING:absl:Skipping variable loading for optimizer 'RMSprop', because it has 13 variables whereas the saved optimizer has 1 variables. \n"
     ]
    },
    {
     "name": "stdout",
     "output_type": "stream",
     "text": [
      "1/1 [==============================] - 0s 265ms/step\n",
      "Cat 6: 50.45% confident it's a Cat.\n"
     ]
    },
    {
     "name": "stderr",
     "output_type": "stream",
     "text": [
      "WARNING:absl:Skipping variable loading for optimizer 'RMSprop', because it has 13 variables whereas the saved optimizer has 1 variables. \n"
     ]
    },
    {
     "name": "stdout",
     "output_type": "stream",
     "text": [
      "1/1 [==============================] - 0s 320ms/step\n",
      "Cat 7: 50.18% confident it's a Cat.\n"
     ]
    },
    {
     "name": "stderr",
     "output_type": "stream",
     "text": [
      "WARNING:absl:Skipping variable loading for optimizer 'RMSprop', because it has 13 variables whereas the saved optimizer has 1 variables. \n"
     ]
    },
    {
     "name": "stdout",
     "output_type": "stream",
     "text": [
      "1/1 [==============================] - 0s 450ms/step\n",
      "Cat 8: 50.56% confident it's a Cat.\n"
     ]
    },
    {
     "name": "stderr",
     "output_type": "stream",
     "text": [
      "WARNING:absl:Skipping variable loading for optimizer 'RMSprop', because it has 13 variables whereas the saved optimizer has 1 variables. \n"
     ]
    },
    {
     "name": "stdout",
     "output_type": "stream",
     "text": [
      "1/1 [==============================] - 0s 384ms/step\n",
      "Cat 9: 50.52% confident it's a Cat.\n"
     ]
    },
    {
     "name": "stderr",
     "output_type": "stream",
     "text": [
      "WARNING:absl:Skipping variable loading for optimizer 'RMSprop', because it has 13 variables whereas the saved optimizer has 1 variables. \n"
     ]
    },
    {
     "name": "stdout",
     "output_type": "stream",
     "text": [
      "1/1 [==============================] - 0s 153ms/step\n",
      "Cat 10: 50.46% confident it's a Cat.\n"
     ]
    }
   ],
   "source": [
    "##\n",
    "dogs_cats = DogsCats()\n",
    "\n",
    "model_name = 'dogs_cats_model.keras'\n",
    "# Set up paths\n",
    "data_dirname = \"dogs-vs-cats\"\n",
    "test_path = os.path.join(data_dirname, \"test\")\n",
    "\n",
    "# Load the saved model\n",
    "loaded_model = keras.models.load_model(model_name)\n",
    "\n",
    "# Evaluate the model on the test set\n",
    "test_dataset = dogs_cats.create_dataset(test_path, batch_size=32, img_size=(200, 180))\n",
    "test_loss, test_accuracy = loaded_model.evaluate(test_dataset)\n",
    "print(f\"Test Accuracy: {test_accuracy}\")\n",
    "\n",
    "# Show predictions on 10 images each from dogs and cats in the test set\n",
    "dogs_path = os.path.join(test_path, \"dog\")\n",
    "cats_path = os.path.join(test_path, \"cat\")\n",
    "\n",
    "dog_files = [os.path.join(dogs_path, f) for f in os.listdir(dogs_path)][:10]\n",
    "cat_files = [os.path.join(cats_path, f) for f in os.listdir(cats_path)][:10]\n",
    "\n",
    "# Function to make predictions and display results\n",
    "def predict_and_display(predictions, filenames, label):\n",
    "    print(f\"\\nPredictions for {label}s:\")\n",
    "    for i, file in enumerate(filenames):\n",
    "\n",
    "        prediction = dogs_cats.predict(model_name, file)\n",
    "        print(f\"{label} {i+1}: {prediction[0][0]:.2%} confident it's a {label}.\")\n",
    "\n",
    "# Predict and display for dogs\n",
    "predict_and_display(loaded_model, dog_files, \"Dog\")\n",
    "\n",
    "# Predict and display for cats\n",
    "predict_and_display(loaded_model, cat_files, \"Cat\")\n"
   ]
  },
  {
   "cell_type": "code",
   "execution_count": 52,
   "metadata": {},
   "outputs": [],
   "source": []
  },
  {
   "cell_type": "code",
   "execution_count": 67,
   "metadata": {},
   "outputs": [
    {
     "ename": "NameError",
     "evalue": "name 'data_dirname' is not defined",
     "output_type": "error",
     "traceback": [
      "\u001b[1;31m---------------------------------------------------------------------------\u001b[0m",
      "\u001b[1;31mNameError\u001b[0m                                 Traceback (most recent call last)",
      "\u001b[1;32mc:\\Users\\pawar\\.conda\\envs\\ece5831-2023\\ece5831-assignments-2023\\ece5831-assignments\\ese5831-assignments\\assignment-8\\module8.ipynb Cell 23\u001b[0m line \u001b[0;36m1\n\u001b[0;32m     <a href='vscode-notebook-cell:/c%3A/Users/pawar/.conda/envs/ece5831-2023/ece5831-assignments-2023/ece5831-assignments/ese5831-assignments/assignment-8/module8.ipynb#X35sZmlsZQ%3D%3D?line=11'>12</a>\u001b[0m dogs_cats \u001b[39m=\u001b[39m DogsCats\u001b[39m.\u001b[39mDogsCats()\n\u001b[0;32m     <a href='vscode-notebook-cell:/c%3A/Users/pawar/.conda/envs/ece5831-2023/ece5831-assignments-2023/ece5831-assignments/ese5831-assignments/assignment-8/module8.ipynb#X35sZmlsZQ%3D%3D?line=13'>14</a>\u001b[0m \u001b[39m# Make datasets\u001b[39;00m\n\u001b[1;32m---> <a href='vscode-notebook-cell:/c%3A/Users/pawar/.conda/envs/ece5831-2023/ece5831-assignments-2023/ece5831-assignments/ese5831-assignments/assignment-8/module8.ipynb#X35sZmlsZQ%3D%3D?line=14'>15</a>\u001b[0m train_dataset, validation_dataset, test_dataset \u001b[39m=\u001b[39m dogs_cats\u001b[39m.\u001b[39;49mmake_datasets(train_path, validation_path, test_path)\n\u001b[0;32m     <a href='vscode-notebook-cell:/c%3A/Users/pawar/.conda/envs/ece5831-2023/ece5831-assignments-2023/ece5831-assignments/ese5831-assignments/assignment-8/module8.ipynb#X35sZmlsZQ%3D%3D?line=16'>17</a>\u001b[0m \u001b[39m# Compile the model\u001b[39;00m\n\u001b[0;32m     <a href='vscode-notebook-cell:/c%3A/Users/pawar/.conda/envs/ece5831-2023/ece5831-assignments-2023/ece5831-assignments/ese5831-assignments/assignment-8/module8.ipynb#X35sZmlsZQ%3D%3D?line=17'>18</a>\u001b[0m dogs_cats\u001b[39m.\u001b[39mcompile()\n",
      "File \u001b[1;32mc:\\Users\\pawar\\.conda\\envs\\ece5831-2023\\ece5831-assignments-2023\\ece5831-assignments\\ese5831-assignments\\assignment-8\\dogs-cats.py:48\u001b[0m, in \u001b[0;36mDogsCats.make_datasets\u001b[1;34m(self, train_path, validation_path, test_path, batch_size, img_size)\u001b[0m\n\u001b[0;32m     45\u001b[0m             shutil\u001b[39m.\u001b[39mcopyfile(src, dst)\n\u001b[0;32m     47\u001b[0m \u001b[39m# Create datasets with the specified number of samples\u001b[39;00m\n\u001b[1;32m---> 48\u001b[0m make_dataset(\u001b[39m\"\u001b[39;49m\u001b[39mtrain\u001b[39;49m\u001b[39m\"\u001b[39;49m, \u001b[39m0\u001b[39;49m, \u001b[39m1000\u001b[39;49m)\n\u001b[0;32m     49\u001b[0m make_dataset(\u001b[39m\"\u001b[39m\u001b[39mvalidation\u001b[39m\u001b[39m\"\u001b[39m, \u001b[39m1001\u001b[39m, \u001b[39m1500\u001b[39m)\n\u001b[0;32m     50\u001b[0m make_dataset(\u001b[39m\"\u001b[39m\u001b[39mtest\u001b[39m\u001b[39m\"\u001b[39m, \u001b[39m1501\u001b[39m, \u001b[39m2500\u001b[39m)\n",
      "File \u001b[1;32mc:\\Users\\pawar\\.conda\\envs\\ece5831-2023\\ece5831-assignments-2023\\ece5831-assignments\\ese5831-assignments\\assignment-8\\dogs-cats.py:38\u001b[0m, in \u001b[0;36mDogsCats.make_datasets.<locals>.make_dataset\u001b[1;34m(subset_name, start_idx, end_idx)\u001b[0m\n\u001b[0;32m     36\u001b[0m \u001b[39mdef\u001b[39;00m \u001b[39mmake_dataset\u001b[39m(subset_name, start_idx, end_idx):\n\u001b[0;32m     37\u001b[0m     \u001b[39mfor\u001b[39;00m category \u001b[39min\u001b[39;00m {\u001b[39m\"\u001b[39m\u001b[39mcat\u001b[39m\u001b[39m\"\u001b[39m, \u001b[39m\"\u001b[39m\u001b[39mdog\u001b[39m\u001b[39m\"\u001b[39m}:\n\u001b[1;32m---> 38\u001b[0m         subset_path \u001b[39m=\u001b[39m os\u001b[39m.\u001b[39mpath\u001b[39m.\u001b[39mjoin(data_dirname, subset_name, category)\n\u001b[0;32m     39\u001b[0m         os\u001b[39m.\u001b[39mmakedirs(subset_path, exist_ok\u001b[39m=\u001b[39m\u001b[39mTrue\u001b[39;00m)\n\u001b[0;32m     41\u001b[0m         \u001b[39mfor\u001b[39;00m i \u001b[39min\u001b[39;00m \u001b[39mrange\u001b[39m(start_idx, end_idx):\n",
      "\u001b[1;31mNameError\u001b[0m: name 'data_dirname' is not defined"
     ]
    }
   ],
   "source": [
    "import importlib\n",
    "\n",
    "DogsCats = importlib.import_module('dogs-cats')\n",
    "# Set up paths\n",
    "data_from_kaggle = \"data-from-kaggle/train/train\"\n",
    "data_dirname = \"dogs-vs-cats\"\n",
    "train_path = os.path.join(data_dirname, \"train\")\n",
    "validation_path = os.path.join(data_dirname, \"validation\")\n",
    "test_path = os.path.join(data_dirname, \"test\")\n",
    "\n",
    "# Create DogsCats instance\n",
    "dogs_cats = DogsCats.DogsCats()\n",
    "\n",
    "# Make datasets\n",
    "train_dataset, validation_dataset, test_dataset = dogs_cats.make_datasets(train_path, validation_path, test_path)\n",
    "\n",
    "# Compile the model\n",
    "dogs_cats.compile()\n",
    "\n",
    "# Fit the model\n",
    "callbacks = [keras.callbacks.ModelCheckpoint(\n",
    "    filepath=\"model-from-scratch\",\n",
    "    save_best_only=False,\n",
    "    monitor=\"val_loss\"\n",
    ")]\n",
    "history = dogs_cats.fit(train_dataset, validation_dataset, epochs=10, callbacks=callbacks)\n",
    "\n",
    "# Save the model\n",
    "model_name = 'dogs_cats_model.keras'\n",
    "dogs_cats.model.save(model_name)"
   ]
  },
  {
   "cell_type": "code",
   "execution_count": 53,
   "metadata": {},
   "outputs": [
    {
     "name": "stdout",
     "output_type": "stream",
     "text": [
      "INFO:tensorflow:Assets written to: dogs_cats_model_aug.pb\\assets\n"
     ]
    },
    {
     "name": "stderr",
     "output_type": "stream",
     "text": [
      "INFO:tensorflow:Assets written to: dogs_cats_model_aug.pb\\assets\n"
     ]
    },
    {
     "name": "stdout",
     "output_type": "stream",
     "text": [
      "1/1 [==============================] - 0s 372ms/step\n",
      "[[0.4778949]]\n"
     ]
    }
   ],
   "source": [
    "dogs_cats = DogsCats()\n",
    "dogs_cats.compile()\n",
    "model_name = 'dogs_cats_model_aug.pb'\n",
    "dogs_cats.model.save(model_name)\n",
    "# Create DogsCats instance\n",
    "\n",
    "file_name = 'C:\\\\Users\\\\pawar\\\\.conda\\\\envs\\\\ece5831-2023\\\\ece5831-assignments-2023\\\\ece5831-assignments\\\\ese5831-assignments\\\\assignment-8\\\\dogs-vs-cats\\\\test\\\\dog\\\\dog.1752.jpg'\n",
    "predictions = dogs_cats.predict(model_name, file_name)\n",
    "print(predictions)"
   ]
  },
  {
   "cell_type": "code",
   "execution_count": 55,
   "metadata": {},
   "outputs": [
    {
     "name": "stdout",
     "output_type": "stream",
     "text": [
      "Found 6996 files belonging to 2 classes.\n",
      "219/219 [==============================] - 63s 284ms/step - loss: 0.6703 - accuracy: 0.8579\n",
      "Test Accuracy: 0.8579187989234924\n",
      "\n",
      "Predictions for Dogs:\n",
      "1/1 [==============================] - 0s 291ms/step\n",
      "Dog 1: 100.00% confident it's a Dog.\n",
      "1/1 [==============================] - 0s 328ms/step\n",
      "Dog 2: 100.00% confident it's a Dog.\n",
      "1/1 [==============================] - 0s 304ms/step\n",
      "Dog 3: 100.00% confident it's a Dog.\n",
      "1/1 [==============================] - 0s 376ms/step\n",
      "Dog 4: 100.00% confident it's a Dog.\n",
      "1/1 [==============================] - 0s 234ms/step\n",
      "Dog 5: 100.00% confident it's a Dog.\n",
      "1/1 [==============================] - 0s 334ms/step\n",
      "Dog 6: 100.00% confident it's a Dog.\n",
      "1/1 [==============================] - 0s 337ms/step\n",
      "Dog 7: 7.55% confident it's a Dog.\n",
      "1/1 [==============================] - 0s 167ms/step\n",
      "Dog 8: 100.00% confident it's a Dog.\n",
      "1/1 [==============================] - 0s 280ms/step\n",
      "Dog 9: 99.73% confident it's a Dog.\n",
      "1/1 [==============================] - 0s 349ms/step\n",
      "Dog 10: 98.46% confident it's a Dog.\n",
      "\n",
      "Predictions for Cats:\n",
      "1/1 [==============================] - 0s 176ms/step\n",
      "Cat 1: 0.10% confident it's a Cat.\n",
      "1/1 [==============================] - 0s 196ms/step\n",
      "Cat 2: 0.99% confident it's a Cat.\n",
      "1/1 [==============================] - 0s 216ms/step\n",
      "Cat 3: 0.01% confident it's a Cat.\n",
      "1/1 [==============================] - 0s 289ms/step\n",
      "Cat 4: 1.22% confident it's a Cat.\n",
      "1/1 [==============================] - 0s 278ms/step\n",
      "Cat 5: 69.47% confident it's a Cat.\n",
      "1/1 [==============================] - 0s 378ms/step\n",
      "Cat 6: 0.01% confident it's a Cat.\n",
      "1/1 [==============================] - 0s 233ms/step\n",
      "Cat 7: 0.03% confident it's a Cat.\n",
      "1/1 [==============================] - 0s 291ms/step\n",
      "Cat 8: 87.56% confident it's a Cat.\n",
      "1/1 [==============================] - 0s 197ms/step\n",
      "Cat 9: 1.60% confident it's a Cat.\n",
      "1/1 [==============================] - 0s 470ms/step\n",
      "Cat 10: 12.78% confident it's a Cat.\n"
     ]
    }
   ],
   "source": [
    "##\n",
    "dogs_cats = DogsCats()\n",
    "\n",
    "model_name = 'dogs_cats_model_aug.keras'\n",
    "# Set up paths\n",
    "data_dirname = \"dogs-vs-cats\"\n",
    "test_path = os.path.join(data_dirname, \"test\")\n",
    "\n",
    "# Load the saved model\n",
    "loaded_model = keras.models.load_model(model_name)\n",
    "\n",
    "# Evaluate the model on the test set\n",
    "test_dataset = dogs_cats.create_dataset(test_path, batch_size=32, img_size=(200, 180))\n",
    "test_loss, test_accuracy = loaded_model.evaluate(test_dataset)\n",
    "print(f\"Test Accuracy: {test_accuracy}\")\n",
    "\n",
    "# Show predictions on 10 images each from dogs and cats in the test set\n",
    "dogs_path = os.path.join(test_path, \"dog\")\n",
    "cats_path = os.path.join(test_path, \"cat\")\n",
    "\n",
    "dog_files = [os.path.join(dogs_path, f) for f in os.listdir(dogs_path)][:10]\n",
    "cat_files = [os.path.join(cats_path, f) for f in os.listdir(cats_path)][:10]\n",
    "\n",
    "# Function to make predictions and display results\n",
    "def predict_and_display(predictions, filenames, label):\n",
    "    print(f\"\\nPredictions for {label}s:\")\n",
    "    for i, file in enumerate(filenames):\n",
    "\n",
    "        prediction = dogs_cats.predict(model_name, file)\n",
    "        print(f\"{label} {i+1}: {prediction[0][0]:.2%} confident it's a {label}.\")\n",
    "\n",
    "# Predict and display for dogs\n",
    "predict_and_display(loaded_model, dog_files, \"Dog\")\n",
    "\n",
    "# Predict and display for cats\n",
    "predict_and_display(loaded_model, cat_files, \"Cat\")\n"
   ]
  },
  {
   "cell_type": "code",
   "execution_count": null,
   "metadata": {},
   "outputs": [
    {
     "name": "stdout",
     "output_type": "stream",
     "text": [
      "dogs-vs-cats\\test\n"
     ]
    }
   ],
   "source": [
    "data_dirname = \"dogs-vs-cats\"\n",
    "test_path = os.path.join(data_dirname, \"test\")\n",
    "print(test_path)"
   ]
  }
 ],
 "metadata": {
  "kernelspec": {
   "display_name": "ece5831-2023-py3.10",
   "language": "python",
   "name": "python3"
  },
  "language_info": {
   "codemirror_mode": {
    "name": "ipython",
    "version": 3
   },
   "file_extension": ".py",
   "mimetype": "text/x-python",
   "name": "python",
   "nbconvert_exporter": "python",
   "pygments_lexer": "ipython3",
   "version": "3.10.13"
  }
 },
 "nbformat": 4,
 "nbformat_minor": 2
}
