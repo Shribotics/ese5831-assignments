{
 "cells": [
  {
   "cell_type": "markdown",
   "metadata": {},
   "source": []
  },
  {
   "cell_type": "markdown",
   "metadata": {},
   "source": [
    "## in-class module-8"
   ]
  },
  {
   "cell_type": "code",
   "execution_count": 1,
   "metadata": {},
   "outputs": [],
   "source": [
    "import os\n",
    "import shutil"
   ]
  },
  {
   "cell_type": "code",
   "execution_count": null,
   "metadata": {},
   "outputs": [],
   "source": []
  },
  {
   "cell_type": "code",
   "execution_count": 3,
   "metadata": {},
   "outputs": [],
   "source": [
    "#data_filename = \"dogs-vs-cats.zip\"\n",
    "data_from_kaggle = \"data-from-kaggle/train/train\"\n",
    "#data_from_kaggle_test = \"data-from-kaggle/test1\"\n",
    "data_dirname = \"dogs-vs-cats\""
   ]
  },
  {
   "cell_type": "code",
   "execution_count": 4,
   "metadata": {},
   "outputs": [],
   "source": [
    "# subset_name: train, validation, test\n",
    "def make_dataset(subset_name, start_idx, end_idx):\n",
    "    for category in { \"cat\", \"dog\" }:\n",
    "       # data_dirname/subset_name/categoroy \n",
    "       dir = f\"{data_dirname}/{subset_name}/{category}\"\n",
    "       # print(dir)\n",
    "       os.makedirs(dir)\n",
    "       fnames = [f\"{category}.{i}.jpg\" for i in range(start_idx, end_idx)]\n",
    "       # print(fnames)\n",
    "       for fname in fnames: \n",
    "             shutil.copyfile(src=f\"{data_from_kaggle}/{fname}\", dst=f\"{dir}/{fname}\") "
   ]
  },
  {
   "cell_type": "code",
   "execution_count": null,
   "metadata": {},
   "outputs": [],
   "source": [
    "# total: 25,000/2 = 12,500 cats and dogs\n",
    "# 12,500*.6 = 7,500\n",
    "# training: 25*0.2 = 7500\n",
    "# test and val: 2,500 each\n",
    "make_dataset(\"train\", 0, 7500)\n",
    "make_dataset(\"validation\", 7501, 10000)\n",
    "# total: 12,500\n",
    "make_dataset(\"test\", 10001, 12500)"
   ]
  },
  {
   "cell_type": "code",
   "execution_count": 6,
   "metadata": {},
   "outputs": [],
   "source": [
    "from tensorflow import keras\n",
    "from tensorflow.keras import layers"
   ]
  },
  {
   "cell_type": "code",
   "execution_count": 7,
   "metadata": {},
   "outputs": [],
   "source": [
    "def build_model():\n",
    "    input = keras.Input(shape=(200, 180, 3))\n",
    "    x = layers.Rescaling(1./255)(input)\n",
    "    x = layers.Conv2D(filters=32, kernel_size=3, activation=\"relu\")(x)\n",
    "    x = layers.MaxPooling2D(pool_size=2)(x)\n",
    "    x = layers.Conv2D(filters=64, kernel_size=3, activation=\"relu\")(x)\n",
    "    x = layers.MaxPooling2D(pool_size=2)(x)\n",
    "    x = layers.Conv2D(filters=128, kernel_size=3, activation=\"relu\")(x)\n",
    "    x = layers.MaxPooling2D(pool_size=2)(x)\n",
    "    x = layers.Conv2D(filters=256, kernel_size=3, activation=\"relu\")(x)\n",
    "    x = layers.MaxPooling2D(pool_size=2)(x)\n",
    "    x = layers.Conv2D(filters=256, kernel_size=3, activation=\"relu\")(x)\n",
    "    x = layers.MaxPooling2D(pool_size=2)(x)\n",
    "    x = layers.Flatten()(x)\n",
    "    outputs = layers.Dense(1, activation=\"sigmoid\")(x)\n",
    "\n",
    "    model = keras.Model(inputs=input, outputs=outputs)\n",
    "    return model"
   ]
  },
  {
   "cell_type": "code",
   "execution_count": 8,
   "metadata": {},
   "outputs": [],
   "source": [
    "model = build_model()"
   ]
  },
  {
   "cell_type": "code",
   "execution_count": 9,
   "metadata": {},
   "outputs": [
    {
     "name": "stdout",
     "output_type": "stream",
     "text": [
      "Model: \"model\"\n",
      "_________________________________________________________________\n",
      " Layer (type)                Output Shape              Param #   \n",
      "=================================================================\n",
      " input_1 (InputLayer)        [(None, 200, 180, 3)]     0         \n",
      "                                                                 \n",
      " rescaling (Rescaling)       (None, 200, 180, 3)       0         \n",
      "                                                                 \n",
      " conv2d (Conv2D)             (None, 198, 178, 32)      896       \n",
      "                                                                 \n",
      " max_pooling2d (MaxPooling2  (None, 99, 89, 32)        0         \n",
      " D)                                                              \n",
      "                                                                 \n",
      " conv2d_1 (Conv2D)           (None, 97, 87, 64)        18496     \n",
      "                                                                 \n",
      " max_pooling2d_1 (MaxPoolin  (None, 48, 43, 64)        0         \n",
      " g2D)                                                            \n",
      "                                                                 \n",
      " conv2d_2 (Conv2D)           (None, 46, 41, 128)       73856     \n",
      "                                                                 \n",
      " max_pooling2d_2 (MaxPoolin  (None, 23, 20, 128)       0         \n",
      " g2D)                                                            \n",
      "                                                                 \n",
      " conv2d_3 (Conv2D)           (None, 21, 18, 256)       295168    \n",
      "                                                                 \n",
      " max_pooling2d_3 (MaxPoolin  (None, 10, 9, 256)        0         \n",
      " g2D)                                                            \n",
      "                                                                 \n",
      " conv2d_4 (Conv2D)           (None, 8, 7, 256)         590080    \n",
      "                                                                 \n",
      " max_pooling2d_4 (MaxPoolin  (None, 4, 3, 256)         0         \n",
      " g2D)                                                            \n",
      "                                                                 \n",
      " flatten (Flatten)           (None, 3072)              0         \n",
      "                                                                 \n",
      " dense (Dense)               (None, 1)                 3073      \n",
      "                                                                 \n",
      "=================================================================\n",
      "Total params: 981569 (3.74 MB)\n",
      "Trainable params: 981569 (3.74 MB)\n",
      "Non-trainable params: 0 (0.00 Byte)\n",
      "_________________________________________________________________\n"
     ]
    }
   ],
   "source": [
    "model.summary()"
   ]
  },
  {
   "cell_type": "code",
   "execution_count": 10,
   "metadata": {},
   "outputs": [],
   "source": [
    "model.compile(loss=\"binary_crossentropy\", optimizer=\"rmsprop\", metrics=[\"accuracy\"])"
   ]
  },
  {
   "cell_type": "code",
   "execution_count": 11,
   "metadata": {},
   "outputs": [],
   "source": [
    "from tensorflow.keras.utils import image_dataset_from_directory"
   ]
  },
  {
   "cell_type": "code",
   "execution_count": 12,
   "metadata": {},
   "outputs": [],
   "source": [
    "batch_size = 32"
   ]
  },
  {
   "cell_type": "code",
   "execution_count": 13,
   "metadata": {},
   "outputs": [
    {
     "name": "stdout",
     "output_type": "stream",
     "text": [
      "Found 15000 files belonging to 2 classes.\n",
      "Found 5996 files belonging to 2 classes.\n",
      "Found 6996 files belonging to 2 classes.\n"
     ]
    }
   ],
   "source": [
    "train_dataset = image_dataset_from_directory(f\"{data_dirname}/train\", image_size=(200, 180), batch_size=batch_size)\n",
    "validation_dataset = image_dataset_from_directory(f\"{data_dirname}/validation\", image_size=(200, 180), batch_size=batch_size)\n",
    "test_dataset = image_dataset_from_directory(f\"{data_dirname}/test\", image_size=(200, 180), batch_size=batch_size)"
   ]
  },
  {
   "cell_type": "code",
   "execution_count": 14,
   "metadata": {},
   "outputs": [],
   "source": [
    "callbacks = [ keras.callbacks.ModelCheckpoint(\n",
    "    filepath=\"module-from-scrach\",\n",
    "    save_best_only=False,\n",
    "    monitor=\"val_loss\"\n",
    ")]"
   ]
  },
  {
   "cell_type": "code",
   "execution_count": null,
   "metadata": {},
   "outputs": [
    {
     "name": "stdout",
     "output_type": "stream",
     "text": [
      "Epoch 1/10\n",
      "469/469 [==============================] - ETA: 0s - loss: 0.6337 - accuracy: 0.6273INFO:tensorflow:Assets written to: jaerock-in-class-from-scrach\\assets\n"
     ]
    },
    {
     "name": "stderr",
     "output_type": "stream",
     "text": [
      "INFO:tensorflow:Assets written to: jaerock-in-class-from-scrach\\assets\n"
     ]
    },
    {
     "name": "stdout",
     "output_type": "stream",
     "text": [
      "469/469 [==============================] - 518s 1s/step - loss: 0.6337 - accuracy: 0.6273 - val_loss: 0.5677 - val_accuracy: 0.7147\n",
      "Epoch 2/10\n",
      "469/469 [==============================] - ETA: 0s - loss: 0.5201 - accuracy: 0.7444INFO:tensorflow:Assets written to: jaerock-in-class-from-scrach\\assets\n"
     ]
    },
    {
     "name": "stderr",
     "output_type": "stream",
     "text": [
      "INFO:tensorflow:Assets written to: jaerock-in-class-from-scrach\\assets\n"
     ]
    },
    {
     "name": "stdout",
     "output_type": "stream",
     "text": [
      "469/469 [==============================] - 482s 1s/step - loss: 0.5201 - accuracy: 0.7444 - val_loss: 0.4953 - val_accuracy: 0.7679\n",
      "Epoch 3/10\n",
      "469/469 [==============================] - ETA: 0s - loss: 0.4239 - accuracy: 0.8038INFO:tensorflow:Assets written to: jaerock-in-class-from-scrach\\assets\n"
     ]
    },
    {
     "name": "stderr",
     "output_type": "stream",
     "text": [
      "INFO:tensorflow:Assets written to: jaerock-in-class-from-scrach\\assets\n"
     ]
    },
    {
     "name": "stdout",
     "output_type": "stream",
     "text": [
      "469/469 [==============================] - 478s 1s/step - loss: 0.4239 - accuracy: 0.8038 - val_loss: 0.4360 - val_accuracy: 0.7995\n",
      "Epoch 4/10\n",
      "469/469 [==============================] - ETA: 0s - loss: 0.3407 - accuracy: 0.8475INFO:tensorflow:Assets written to: jaerock-in-class-from-scrach\\assets\n"
     ]
    },
    {
     "name": "stderr",
     "output_type": "stream",
     "text": [
      "INFO:tensorflow:Assets written to: jaerock-in-class-from-scrach\\assets\n"
     ]
    },
    {
     "name": "stdout",
     "output_type": "stream",
     "text": [
      "469/469 [==============================] - 478s 1s/step - loss: 0.3407 - accuracy: 0.8475 - val_loss: 0.3273 - val_accuracy: 0.8609\n",
      "Epoch 5/10\n",
      "469/469 [==============================] - ETA: 0s - loss: 0.2738 - accuracy: 0.8802INFO:tensorflow:Assets written to: jaerock-in-class-from-scrach\\assets\n"
     ]
    },
    {
     "name": "stderr",
     "output_type": "stream",
     "text": [
      "INFO:tensorflow:Assets written to: jaerock-in-class-from-scrach\\assets\n"
     ]
    },
    {
     "name": "stdout",
     "output_type": "stream",
     "text": [
      "469/469 [==============================] - 475s 1s/step - loss: 0.2738 - accuracy: 0.8802 - val_loss: 0.3224 - val_accuracy: 0.8575\n",
      "Epoch 6/10\n",
      "469/469 [==============================] - ETA: 0s - loss: 0.2234 - accuracy: 0.9063INFO:tensorflow:Assets written to: jaerock-in-class-from-scrach\\assets\n"
     ]
    },
    {
     "name": "stderr",
     "output_type": "stream",
     "text": [
      "INFO:tensorflow:Assets written to: jaerock-in-class-from-scrach\\assets\n"
     ]
    },
    {
     "name": "stdout",
     "output_type": "stream",
     "text": [
      "469/469 [==============================] - 473s 1s/step - loss: 0.2234 - accuracy: 0.9063 - val_loss: 0.3112 - val_accuracy: 0.8675\n",
      "Epoch 7/10\n",
      "469/469 [==============================] - ETA: 0s - loss: 0.1749 - accuracy: 0.9272INFO:tensorflow:Assets written to: jaerock-in-class-from-scrach\\assets\n"
     ]
    },
    {
     "name": "stderr",
     "output_type": "stream",
     "text": [
      "INFO:tensorflow:Assets written to: jaerock-in-class-from-scrach\\assets\n"
     ]
    },
    {
     "name": "stdout",
     "output_type": "stream",
     "text": [
      "469/469 [==============================] - 479s 1s/step - loss: 0.1749 - accuracy: 0.9272 - val_loss: 0.2923 - val_accuracy: 0.8796\n",
      "Epoch 8/10\n",
      "469/469 [==============================] - ETA: 0s - loss: 0.1291 - accuracy: 0.9473INFO:tensorflow:Assets written to: jaerock-in-class-from-scrach\\assets\n"
     ]
    },
    {
     "name": "stderr",
     "output_type": "stream",
     "text": [
      "INFO:tensorflow:Assets written to: jaerock-in-class-from-scrach\\assets\n"
     ]
    },
    {
     "name": "stdout",
     "output_type": "stream",
     "text": [
      "469/469 [==============================] - 496s 1s/step - loss: 0.1291 - accuracy: 0.9473 - val_loss: 0.4455 - val_accuracy: 0.8697\n",
      "Epoch 9/10\n",
      "469/469 [==============================] - ETA: 0s - loss: 0.1055 - accuracy: 0.9588INFO:tensorflow:Assets written to: jaerock-in-class-from-scrach\\assets\n"
     ]
    },
    {
     "name": "stderr",
     "output_type": "stream",
     "text": [
      "INFO:tensorflow:Assets written to: jaerock-in-class-from-scrach\\assets\n"
     ]
    },
    {
     "name": "stdout",
     "output_type": "stream",
     "text": [
      "469/469 [==============================] - 483s 1s/step - loss: 0.1055 - accuracy: 0.9588 - val_loss: 0.4176 - val_accuracy: 0.8886\n",
      "Epoch 10/10\n",
      "469/469 [==============================] - ETA: 0s - loss: 0.0869 - accuracy: 0.9684INFO:tensorflow:Assets written to: jaerock-in-class-from-scrach\\assets\n"
     ]
    },
    {
     "name": "stderr",
     "output_type": "stream",
     "text": [
      "INFO:tensorflow:Assets written to: jaerock-in-class-from-scrach\\assets\n"
     ]
    },
    {
     "name": "stdout",
     "output_type": "stream",
     "text": [
      "469/469 [==============================] - 482s 1s/step - loss: 0.0869 - accuracy: 0.9684 - val_loss: 0.4495 - val_accuracy: 0.8824\n"
     ]
    },
    {
     "data": {
      "text/plain": [
       "<keras.src.callbacks.History at 0x20a473fd120>"
      ]
     },
     "execution_count": 41,
     "metadata": {},
     "output_type": "execute_result"
    }
   ],
   "source": [
    "model.fit(train_dataset, validation_data=validation_dataset, epochs=10, callbacks=callbacks)"
   ]
  },
  {
   "cell_type": "code",
   "execution_count": 34,
   "metadata": {},
   "outputs": [],
   "source": [
    "data_augmentation = keras.Sequential( [\n",
    "    layers.RandomFlip(\"horizontal\"),\n",
    "    layers.RandomRotation(0.2),\n",
    "    layers.RandomZoom(0.2)\n",
    "])"
   ]
  },
  {
   "cell_type": "markdown",
   "metadata": {},
   "source": [
    "## Using dogs-cats.py class"
   ]
  },
  {
   "cell_type": "code",
   "execution_count": 4,
   "metadata": {},
   "outputs": [
    {
     "name": "stdout",
     "output_type": "stream",
     "text": [
      "Found 15000 files belonging to 2 classes.\n",
      "Found 5996 files belonging to 2 classes.\n",
      "Found 6996 files belonging to 2 classes.\n",
      "Epoch 1/10\n",
      "469/469 [==============================] - ETA: 0s - loss: 0.6488 - accuracy: 0.6079INFO:tensorflow:Assets written to: model-from-scratch\\assets\n"
     ]
    },
    {
     "name": "stderr",
     "output_type": "stream",
     "text": [
      "INFO:tensorflow:Assets written to: model-from-scratch\\assets\n"
     ]
    },
    {
     "name": "stdout",
     "output_type": "stream",
     "text": [
      "469/469 [==============================] - 594s 1s/step - loss: 0.6488 - accuracy: 0.6079 - val_loss: 0.5792 - val_accuracy: 0.6911\n",
      "Epoch 2/10\n",
      "469/469 [==============================] - ETA: 0s - loss: 0.5453 - accuracy: 0.7241INFO:tensorflow:Assets written to: model-from-scratch\\assets\n"
     ]
    },
    {
     "name": "stderr",
     "output_type": "stream",
     "text": [
      "INFO:tensorflow:Assets written to: model-from-scratch\\assets\n"
     ]
    },
    {
     "name": "stdout",
     "output_type": "stream",
     "text": [
      "469/469 [==============================] - 550s 1s/step - loss: 0.5453 - accuracy: 0.7241 - val_loss: 0.5011 - val_accuracy: 0.7552\n",
      "Epoch 3/10\n",
      "469/469 [==============================] - ETA: 0s - loss: 0.4642 - accuracy: 0.7829INFO:tensorflow:Assets written to: model-from-scratch\\assets\n"
     ]
    },
    {
     "name": "stderr",
     "output_type": "stream",
     "text": [
      "INFO:tensorflow:Assets written to: model-from-scratch\\assets\n"
     ]
    },
    {
     "name": "stdout",
     "output_type": "stream",
     "text": [
      "469/469 [==============================] - 540s 1s/step - loss: 0.4642 - accuracy: 0.7829 - val_loss: 0.4374 - val_accuracy: 0.7907\n",
      "Epoch 4/10\n",
      "469/469 [==============================] - ETA: 0s - loss: 0.3811 - accuracy: 0.8274INFO:tensorflow:Assets written to: model-from-scratch\\assets\n"
     ]
    },
    {
     "name": "stderr",
     "output_type": "stream",
     "text": [
      "INFO:tensorflow:Assets written to: model-from-scratch\\assets\n"
     ]
    },
    {
     "name": "stdout",
     "output_type": "stream",
     "text": [
      "469/469 [==============================] - 549s 1s/step - loss: 0.3811 - accuracy: 0.8274 - val_loss: 0.3451 - val_accuracy: 0.8392\n",
      "Epoch 5/10\n",
      "469/469 [==============================] - ETA: 0s - loss: 0.3115 - accuracy: 0.8653INFO:tensorflow:Assets written to: model-from-scratch\\assets\n"
     ]
    },
    {
     "name": "stderr",
     "output_type": "stream",
     "text": [
      "INFO:tensorflow:Assets written to: model-from-scratch\\assets\n"
     ]
    },
    {
     "name": "stdout",
     "output_type": "stream",
     "text": [
      "469/469 [==============================] - 531s 1s/step - loss: 0.3115 - accuracy: 0.8653 - val_loss: 0.3076 - val_accuracy: 0.8741\n",
      "Epoch 6/10\n",
      "469/469 [==============================] - ETA: 0s - loss: 0.2487 - accuracy: 0.8941INFO:tensorflow:Assets written to: model-from-scratch\\assets\n"
     ]
    },
    {
     "name": "stderr",
     "output_type": "stream",
     "text": [
      "INFO:tensorflow:Assets written to: model-from-scratch\\assets\n"
     ]
    },
    {
     "name": "stdout",
     "output_type": "stream",
     "text": [
      "469/469 [==============================] - 530s 1s/step - loss: 0.2487 - accuracy: 0.8941 - val_loss: 0.2811 - val_accuracy: 0.8799\n",
      "Epoch 7/10\n",
      "469/469 [==============================] - ETA: 0s - loss: 0.2015 - accuracy: 0.9143INFO:tensorflow:Assets written to: model-from-scratch\\assets\n"
     ]
    },
    {
     "name": "stderr",
     "output_type": "stream",
     "text": [
      "INFO:tensorflow:Assets written to: model-from-scratch\\assets\n"
     ]
    },
    {
     "name": "stdout",
     "output_type": "stream",
     "text": [
      "469/469 [==============================] - 530s 1s/step - loss: 0.2015 - accuracy: 0.9143 - val_loss: 0.2452 - val_accuracy: 0.8989\n",
      "Epoch 8/10\n",
      "469/469 [==============================] - ETA: 0s - loss: 0.1522 - accuracy: 0.9381INFO:tensorflow:Assets written to: model-from-scratch\\assets\n"
     ]
    },
    {
     "name": "stderr",
     "output_type": "stream",
     "text": [
      "INFO:tensorflow:Assets written to: model-from-scratch\\assets\n"
     ]
    },
    {
     "name": "stdout",
     "output_type": "stream",
     "text": [
      "469/469 [==============================] - 533s 1s/step - loss: 0.1522 - accuracy: 0.9381 - val_loss: 0.3476 - val_accuracy: 0.8843\n",
      "Epoch 9/10\n",
      "469/469 [==============================] - ETA: 0s - loss: 0.1248 - accuracy: 0.9517INFO:tensorflow:Assets written to: model-from-scratch\\assets\n"
     ]
    },
    {
     "name": "stderr",
     "output_type": "stream",
     "text": [
      "INFO:tensorflow:Assets written to: model-from-scratch\\assets\n"
     ]
    },
    {
     "name": "stdout",
     "output_type": "stream",
     "text": [
      "469/469 [==============================] - 562s 1s/step - loss: 0.1248 - accuracy: 0.9517 - val_loss: 0.2812 - val_accuracy: 0.9033\n",
      "Epoch 10/10\n",
      "469/469 [==============================] - ETA: 0s - loss: 0.0965 - accuracy: 0.9633INFO:tensorflow:Assets written to: model-from-scratch\\assets\n"
     ]
    },
    {
     "name": "stderr",
     "output_type": "stream",
     "text": [
      "INFO:tensorflow:Assets written to: model-from-scratch\\assets\n"
     ]
    },
    {
     "name": "stdout",
     "output_type": "stream",
     "text": [
      "469/469 [==============================] - 531s 1s/step - loss: 0.0965 - accuracy: 0.9633 - val_loss: 0.4304 - val_accuracy: 0.8766\n"
     ]
    }
   ],
   "source": [
    "import importlib\n",
    "import os\n",
    "import shutil\n",
    "from tensorflow import keras\n",
    "from tensorflow.keras import layers\n",
    "from tensorflow.keras.preprocessing import image\n",
    "from tensorflow.keras.utils import image_dataset_from_directory\n",
    "\n",
    "\n",
    "DogsCats = importlib.import_module('dogs-cats')\n",
    "# Set up paths\n",
    "data_from_kaggle = \"data-from-kaggle/train/train\"\n",
    "data_dirname = \"dogs-vs-cats\"\n",
    "train_path = os.path.join(data_dirname, \"train\")\n",
    "validation_path = os.path.join(data_dirname, \"validation\")\n",
    "test_path = os.path.join(data_dirname, \"test\")\n",
    "\n",
    "# Create DogsCats instance\n",
    "dogs_cats = DogsCats.DogsCats()\n",
    "\n",
    "# Make datasets\n",
    "train_dataset, validation_dataset, test_dataset = dogs_cats.make_datasets(train_path, validation_path, test_path)\n",
    "\n",
    "# Compile the model\n",
    "dogs_cats.compile()\n",
    "\n",
    "# Fit the model\n",
    "callbacks = [keras.callbacks.ModelCheckpoint(\n",
    "    filepath=\"model-from-scratch\",\n",
    "    save_best_only=False,\n",
    "    monitor=\"val_loss\"\n",
    ")]\n",
    "history = dogs_cats.fit(train_dataset, validation_dataset, epochs=10, callbacks=callbacks)\n",
    "\n",
    "# Save the model\n",
    "model_name = 'dogs_cats_model.keras'\n",
    "dogs_cats.model.save(model_name)"
   ]
  },
  {
   "cell_type": "markdown",
   "metadata": {},
   "source": [
    "# checking the prediction using one image"
   ]
  },
  {
   "cell_type": "code",
   "execution_count": 5,
   "metadata": {},
   "outputs": [
    {
     "name": "stdout",
     "output_type": "stream",
     "text": [
      "1/1 [==============================] - 0s 118ms/step\n",
      "[[0.99999756]]\n"
     ]
    }
   ],
   "source": [
    "\n",
    "model_name = 'dogs_cats_model.keras'\n",
    "dogs_cats.model.save(model_name)\n",
    "# Create DogsCats instance\n",
    "\n",
    "file_name = 'C:\\\\Users\\\\pawar\\\\.conda\\\\envs\\\\ece5831-2023\\\\ece5831-assignments-2023\\\\ece5831-assignments\\\\ese5831-assignments\\\\assignment-8\\\\dogs-vs-cats\\\\test\\\\dog\\\\dog.1752.jpg'\n",
    "predictions = dogs_cats.predict(model_name, file_name)\n",
    "print(predictions)"
   ]
  },
  {
   "cell_type": "markdown",
   "metadata": {},
   "source": [
    "# Evaluation"
   ]
  },
  {
   "cell_type": "code",
   "execution_count": 6,
   "metadata": {},
   "outputs": [
    {
     "name": "stdout",
     "output_type": "stream",
     "text": [
      "Found 6996 files belonging to 2 classes.\n",
      "219/219 [==============================] - 66s 300ms/step - loss: 0.4048 - accuracy: 0.8832\n",
      "Test Accuracy: 0.8832190036773682\n",
      "\n",
      "Predictions for Dogs:\n",
      "1/1 [==============================] - 0s 101ms/step\n",
      "Dog 1: 100.00% confident it's a Dog.\n",
      "1/1 [==============================] - 0s 89ms/step\n",
      "Dog 2: 40.48% confident it's a Dog.\n",
      "1/1 [==============================] - 0s 98ms/step\n",
      "Dog 3: 100.00% confident it's a Dog.\n",
      "WARNING:tensorflow:5 out of the last 5 calls to <function Model.make_predict_function.<locals>.predict_function at 0x000001D4025D5480> triggered tf.function retracing. Tracing is expensive and the excessive number of tracings could be due to (1) creating @tf.function repeatedly in a loop, (2) passing tensors with different shapes, (3) passing Python objects instead of tensors. For (1), please define your @tf.function outside of the loop. For (2), @tf.function has reduce_retracing=True option that can avoid unnecessary retracing. For (3), please refer to https://www.tensorflow.org/guide/function#controlling_retracing and https://www.tensorflow.org/api_docs/python/tf/function for  more details.\n"
     ]
    },
    {
     "name": "stderr",
     "output_type": "stream",
     "text": [
      "WARNING:tensorflow:5 out of the last 5 calls to <function Model.make_predict_function.<locals>.predict_function at 0x000001D4025D5480> triggered tf.function retracing. Tracing is expensive and the excessive number of tracings could be due to (1) creating @tf.function repeatedly in a loop, (2) passing tensors with different shapes, (3) passing Python objects instead of tensors. For (1), please define your @tf.function outside of the loop. For (2), @tf.function has reduce_retracing=True option that can avoid unnecessary retracing. For (3), please refer to https://www.tensorflow.org/guide/function#controlling_retracing and https://www.tensorflow.org/api_docs/python/tf/function for  more details.\n"
     ]
    },
    {
     "name": "stdout",
     "output_type": "stream",
     "text": [
      "1/1 [==============================] - 0s 103ms/step\n",
      "Dog 4: 99.67% confident it's a Dog.\n",
      "WARNING:tensorflow:6 out of the last 6 calls to <function Model.make_predict_function.<locals>.predict_function at 0x000001D40263F010> triggered tf.function retracing. Tracing is expensive and the excessive number of tracings could be due to (1) creating @tf.function repeatedly in a loop, (2) passing tensors with different shapes, (3) passing Python objects instead of tensors. For (1), please define your @tf.function outside of the loop. For (2), @tf.function has reduce_retracing=True option that can avoid unnecessary retracing. For (3), please refer to https://www.tensorflow.org/guide/function#controlling_retracing and https://www.tensorflow.org/api_docs/python/tf/function for  more details.\n"
     ]
    },
    {
     "name": "stderr",
     "output_type": "stream",
     "text": [
      "WARNING:tensorflow:6 out of the last 6 calls to <function Model.make_predict_function.<locals>.predict_function at 0x000001D40263F010> triggered tf.function retracing. Tracing is expensive and the excessive number of tracings could be due to (1) creating @tf.function repeatedly in a loop, (2) passing tensors with different shapes, (3) passing Python objects instead of tensors. For (1), please define your @tf.function outside of the loop. For (2), @tf.function has reduce_retracing=True option that can avoid unnecessary retracing. For (3), please refer to https://www.tensorflow.org/guide/function#controlling_retracing and https://www.tensorflow.org/api_docs/python/tf/function for  more details.\n"
     ]
    },
    {
     "name": "stdout",
     "output_type": "stream",
     "text": [
      "1/1 [==============================] - 0s 97ms/step\n",
      "Dog 5: 99.96% confident it's a Dog.\n",
      "1/1 [==============================] - 0s 91ms/step\n",
      "Dog 6: 100.00% confident it's a Dog.\n",
      "1/1 [==============================] - 0s 119ms/step\n",
      "Dog 7: 1.20% confident it's a Dog.\n",
      "1/1 [==============================] - 0s 122ms/step\n",
      "Dog 8: 100.00% confident it's a Dog.\n",
      "1/1 [==============================] - 0s 92ms/step\n",
      "Dog 9: 78.59% confident it's a Dog.\n",
      "1/1 [==============================] - 0s 111ms/step\n",
      "Dog 10: 99.69% confident it's a Dog.\n",
      "\n",
      "Predictions for Cats:\n",
      "1/1 [==============================] - 0s 93ms/step\n",
      "Cat 1: 10.90% confident it's a Cat.\n",
      "1/1 [==============================] - 0s 102ms/step\n",
      "Cat 2: 0.00% confident it's a Cat.\n",
      "1/1 [==============================] - 0s 100ms/step\n",
      "Cat 3: 5.26% confident it's a Cat.\n",
      "1/1 [==============================] - 0s 104ms/step\n",
      "Cat 4: 0.76% confident it's a Cat.\n",
      "1/1 [==============================] - 0s 107ms/step\n",
      "Cat 5: 0.40% confident it's a Cat.\n",
      "1/1 [==============================] - 0s 120ms/step\n",
      "Cat 6: 0.00% confident it's a Cat.\n",
      "1/1 [==============================] - 0s 150ms/step\n",
      "Cat 7: 2.87% confident it's a Cat.\n",
      "1/1 [==============================] - 0s 96ms/step\n",
      "Cat 8: 1.04% confident it's a Cat.\n",
      "1/1 [==============================] - 0s 92ms/step\n",
      "Cat 9: 7.40% confident it's a Cat.\n",
      "1/1 [==============================] - 0s 109ms/step\n",
      "Cat 10: 56.71% confident it's a Cat.\n"
     ]
    }
   ],
   "source": [
    "##\n",
    "\n",
    "\n",
    "model_name = 'dogs_cats_model.keras'\n",
    "# Set up paths\n",
    "data_dirname = \"dogs-vs-cats\"\n",
    "test_path = os.path.join(data_dirname, \"test\")\n",
    "\n",
    "# Load the saved model\n",
    "loaded_model = keras.models.load_model(model_name)\n",
    "\n",
    "# Evaluate the model on the test set\n",
    "test_dataset = dogs_cats.create_dataset(test_path, batch_size=32, img_size=(200, 180))\n",
    "test_loss, test_accuracy = loaded_model.evaluate(test_dataset)\n",
    "print(f\"Test Accuracy: {test_accuracy}\")\n",
    "\n",
    "# Show predictions on 10 images each from dogs and cats in the test set\n",
    "dogs_path = os.path.join(test_path, \"dog\")\n",
    "cats_path = os.path.join(test_path, \"cat\")\n",
    "\n",
    "dog_files = [os.path.join(dogs_path, f) for f in os.listdir(dogs_path)][:10]\n",
    "cat_files = [os.path.join(cats_path, f) for f in os.listdir(cats_path)][:10]\n",
    "\n",
    "# Function to make predictions and display results\n",
    "def predict_and_display(predictions, filenames, label):\n",
    "    print(f\"\\nPredictions for {label}s:\")\n",
    "    for i, file in enumerate(filenames):\n",
    "\n",
    "        prediction = dogs_cats.predict(model_name, file)\n",
    "        print(f\"{label} {i+1}: {prediction[0][0]:.2%} confident it's a {label}.\")\n",
    "\n",
    "# Predict and display for dogs\n",
    "predict_and_display(loaded_model, dog_files, \"Dog\")\n",
    "\n",
    "# Predict and display for cats\n",
    "predict_and_display(loaded_model, cat_files, \"Cat\")\n"
   ]
  },
  {
   "cell_type": "markdown",
   "metadata": {},
   "source": [
    "## Using dogs-cats-aug.py class"
   ]
  },
  {
   "cell_type": "code",
   "execution_count": 8,
   "metadata": {},
   "outputs": [
    {
     "name": "stdout",
     "output_type": "stream",
     "text": [
      "Found 15000 files belonging to 2 classes.\n",
      "Found 5996 files belonging to 2 classes.\n",
      "Found 6996 files belonging to 2 classes.\n",
      "Epoch 1/5\n",
      "469/469 [==============================] - ETA: 0s - loss: 0.6452 - accuracy: 0.6138INFO:tensorflow:Assets written to: model-from-scratch\\assets\n"
     ]
    },
    {
     "name": "stderr",
     "output_type": "stream",
     "text": [
      "INFO:tensorflow:Assets written to: model-from-scratch\\assets\n"
     ]
    },
    {
     "name": "stdout",
     "output_type": "stream",
     "text": [
      "469/469 [==============================] - 553s 1s/step - loss: 0.6452 - accuracy: 0.6138 - val_loss: 0.5486 - val_accuracy: 0.7193\n",
      "Epoch 2/5\n",
      "469/469 [==============================] - ETA: 0s - loss: 0.5277 - accuracy: 0.7389INFO:tensorflow:Assets written to: model-from-scratch\\assets\n"
     ]
    },
    {
     "name": "stderr",
     "output_type": "stream",
     "text": [
      "INFO:tensorflow:Assets written to: model-from-scratch\\assets\n"
     ]
    },
    {
     "name": "stdout",
     "output_type": "stream",
     "text": [
      "469/469 [==============================] - 530s 1s/step - loss: 0.5277 - accuracy: 0.7389 - val_loss: 0.5043 - val_accuracy: 0.7500\n",
      "Epoch 3/5\n",
      "469/469 [==============================] - ETA: 0s - loss: 0.4352 - accuracy: 0.7989INFO:tensorflow:Assets written to: model-from-scratch\\assets\n"
     ]
    },
    {
     "name": "stderr",
     "output_type": "stream",
     "text": [
      "INFO:tensorflow:Assets written to: model-from-scratch\\assets\n"
     ]
    },
    {
     "name": "stdout",
     "output_type": "stream",
     "text": [
      "469/469 [==============================] - 541s 1s/step - loss: 0.4352 - accuracy: 0.7989 - val_loss: 0.3671 - val_accuracy: 0.8346\n",
      "Epoch 4/5\n",
      "469/469 [==============================] - ETA: 0s - loss: 0.3533 - accuracy: 0.8437INFO:tensorflow:Assets written to: model-from-scratch\\assets\n"
     ]
    },
    {
     "name": "stderr",
     "output_type": "stream",
     "text": [
      "INFO:tensorflow:Assets written to: model-from-scratch\\assets\n"
     ]
    },
    {
     "name": "stdout",
     "output_type": "stream",
     "text": [
      "469/469 [==============================] - 551s 1s/step - loss: 0.3533 - accuracy: 0.8437 - val_loss: 0.3251 - val_accuracy: 0.8617\n",
      "Epoch 5/5\n",
      "469/469 [==============================] - ETA: 0s - loss: 0.2850 - accuracy: 0.8759INFO:tensorflow:Assets written to: model-from-scratch\\assets\n"
     ]
    },
    {
     "name": "stderr",
     "output_type": "stream",
     "text": [
      "INFO:tensorflow:Assets written to: model-from-scratch\\assets\n"
     ]
    },
    {
     "name": "stdout",
     "output_type": "stream",
     "text": [
      "469/469 [==============================] - 549s 1s/step - loss: 0.2850 - accuracy: 0.8759 - val_loss: 0.3044 - val_accuracy: 0.8681\n"
     ]
    }
   ],
   "source": [
    "import importlib\n",
    "import os\n",
    "import shutil\n",
    "from tensorflow import keras\n",
    "from tensorflow.keras import layers\n",
    "from tensorflow.keras.preprocessing import image\n",
    "from tensorflow.keras.utils import image_dataset_from_directory\n",
    "\n",
    "\n",
    "DogsCats = importlib.import_module('dogs-cats-aug')\n",
    "# Set up paths\n",
    "data_from_kaggle = \"data-from-kaggle/train/train\"\n",
    "data_dirname = \"dogs-vs-cats\"\n",
    "train_path = os.path.join(data_dirname, \"train\")\n",
    "validation_path = os.path.join(data_dirname, \"validation\")\n",
    "test_path = os.path.join(data_dirname, \"test\")\n",
    "\n",
    "# Create DogsCats instance\n",
    "dogs_cats_aug = DogsCats.DogsCats()\n",
    "\n",
    "# Make datasets\n",
    "train_dataset, validation_dataset, test_dataset = dogs_cats_aug.make_datasets(train_path, validation_path, test_path)\n",
    "\n",
    "# Compile the model\n",
    "dogs_cats_aug.compile()\n",
    "\n",
    "# Fit the model\n",
    "callbacks = [keras.callbacks.ModelCheckpoint(\n",
    "    filepath=\"model-from-scratch\",\n",
    "    save_best_only=False,\n",
    "    monitor=\"val_loss\"\n",
    ")]\n",
    "history = dogs_cats_aug.fit(train_dataset, validation_dataset, epochs=5, callbacks=callbacks)\n",
    "\n",
    "# Save the model\n",
    "model_name = 'dogs_cats_model_aug.keras'\n",
    "dogs_cats_aug.model.save(model_name)"
   ]
  },
  {
   "cell_type": "markdown",
   "metadata": {},
   "source": [
    "# Preiction using one image"
   ]
  },
  {
   "cell_type": "code",
   "execution_count": 9,
   "metadata": {},
   "outputs": [
    {
     "name": "stdout",
     "output_type": "stream",
     "text": [
      "1/1 [==============================] - 0s 93ms/step\n",
      "[[0.235287]]\n"
     ]
    }
   ],
   "source": [
    "\n",
    "model_name = 'dogs_cats_model_aug.keras'\n",
    "file_name = 'C:\\\\Users\\\\pawar\\\\.conda\\\\envs\\\\ece5831-2023\\\\ece5831-assignments-2023\\\\ece5831-assignments\\\\ese5831-assignments\\\\assignment-8\\\\dogs-vs-cats\\\\test\\\\dog\\\\dog.1752.jpg'\n",
    "predictions = dogs_cats_aug.predict(model_name, file_name)\n",
    "print(predictions)"
   ]
  },
  {
   "cell_type": "markdown",
   "metadata": {},
   "source": [
    "# Evaluation"
   ]
  },
  {
   "cell_type": "code",
   "execution_count": 10,
   "metadata": {},
   "outputs": [
    {
     "name": "stdout",
     "output_type": "stream",
     "text": [
      "Found 6996 files belonging to 2 classes.\n",
      "219/219 [==============================] - 67s 304ms/step - loss: 0.3017 - accuracy: 0.8661\n",
      "Test Accuracy: 0.8660663366317749\n",
      "\n",
      "Predictions for Dogs:\n",
      "1/1 [==============================] - 0s 97ms/step\n",
      "Dog 1: 23.57% confident it's a Dog.\n",
      "1/1 [==============================] - 0s 96ms/step\n",
      "Dog 2: 23.59% confident it's a Dog.\n",
      "1/1 [==============================] - 0s 94ms/step\n",
      "Dog 3: 23.53% confident it's a Dog.\n",
      "1/1 [==============================] - 0s 93ms/step\n",
      "Dog 4: 23.68% confident it's a Dog.\n",
      "1/1 [==============================] - 0s 96ms/step\n",
      "Dog 5: 23.55% confident it's a Dog.\n",
      "1/1 [==============================] - 0s 101ms/step\n",
      "Dog 6: 23.51% confident it's a Dog.\n",
      "1/1 [==============================] - 0s 119ms/step\n",
      "Dog 7: 23.62% confident it's a Dog.\n",
      "1/1 [==============================] - 0s 98ms/step\n",
      "Dog 8: 23.51% confident it's a Dog.\n",
      "1/1 [==============================] - 0s 114ms/step\n",
      "Dog 9: 23.67% confident it's a Dog.\n",
      "1/1 [==============================] - 0s 96ms/step\n",
      "Dog 10: 23.54% confident it's a Dog.\n",
      "\n",
      "Predictions for Cats:\n",
      "1/1 [==============================] - 0s 122ms/step\n",
      "Cat 1: 23.64% confident it's a Cat.\n",
      "1/1 [==============================] - 0s 95ms/step\n",
      "Cat 2: 23.59% confident it's a Cat.\n",
      "1/1 [==============================] - 0s 119ms/step\n",
      "Cat 3: 23.75% confident it's a Cat.\n",
      "1/1 [==============================] - 0s 115ms/step\n",
      "Cat 4: 23.67% confident it's a Cat.\n",
      "1/1 [==============================] - 0s 91ms/step\n",
      "Cat 5: 23.64% confident it's a Cat.\n",
      "1/1 [==============================] - 0s 93ms/step\n",
      "Cat 6: 23.62% confident it's a Cat.\n",
      "1/1 [==============================] - 0s 118ms/step\n",
      "Cat 7: 23.49% confident it's a Cat.\n",
      "1/1 [==============================] - 0s 102ms/step\n",
      "Cat 8: 23.62% confident it's a Cat.\n",
      "1/1 [==============================] - 0s 95ms/step\n",
      "Cat 9: 23.57% confident it's a Cat.\n",
      "1/1 [==============================] - 0s 93ms/step\n",
      "Cat 10: 23.59% confident it's a Cat.\n"
     ]
    }
   ],
   "source": [
    "##\n",
    "\n",
    "\n",
    "model_name = 'dogs_cats_model_aug.keras'\n",
    "# Set up paths\n",
    "data_dirname = \"dogs-vs-cats\"\n",
    "test_path = os.path.join(data_dirname, \"test\")\n",
    "\n",
    "# Load the saved model\n",
    "loaded_model = keras.models.load_model(model_name)\n",
    "\n",
    "# Evaluate the model on the test set\n",
    "test_dataset = dogs_cats_aug.create_dataset(test_path, batch_size=32, img_size=(200, 180))\n",
    "test_loss, test_accuracy = loaded_model.evaluate(test_dataset)\n",
    "print(f\"Test Accuracy: {test_accuracy}\")\n",
    "\n",
    "# Show predictions on 10 images each from dogs and cats in the test set\n",
    "dogs_path = os.path.join(test_path, \"dog\")\n",
    "cats_path = os.path.join(test_path, \"cat\")\n",
    "\n",
    "dog_files = [os.path.join(dogs_path, f) for f in os.listdir(dogs_path)][:10]\n",
    "cat_files = [os.path.join(cats_path, f) for f in os.listdir(cats_path)][:10]\n",
    "\n",
    "# Function to make predictions and display results\n",
    "def predict_and_display(predictions, filenames, label):\n",
    "    print(f\"\\nPredictions for {label}s:\")\n",
    "    for i, file in enumerate(filenames):\n",
    "\n",
    "        prediction = dogs_cats_aug.predict(model_name, file)\n",
    "        print(f\"{label} {i+1}: {prediction[0][0]:.2%} confident it's a {label}.\")\n",
    "\n",
    "# Predict and display for dogs\n",
    "predict_and_display(loaded_model, dog_files, \"Dog\")\n",
    "\n",
    "# Predict and display for cats\n",
    "predict_and_display(loaded_model, cat_files, \"Cat\")\n"
   ]
  }
 ],
 "metadata": {
  "kernelspec": {
   "display_name": "ece5831-2023-py3.10",
   "language": "python",
   "name": "python3"
  },
  "language_info": {
   "codemirror_mode": {
    "name": "ipython",
    "version": 3
   },
   "file_extension": ".py",
   "mimetype": "text/x-python",
   "name": "python",
   "nbconvert_exporter": "python",
   "pygments_lexer": "ipython3",
   "version": "3.10.13"
  }
 },
 "nbformat": 4,
 "nbformat_minor": 2
}
