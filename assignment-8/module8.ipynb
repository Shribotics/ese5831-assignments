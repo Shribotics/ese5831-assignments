{
 "cells": [
  {
   "cell_type": "markdown",
   "metadata": {},
   "source": []
  },
  {
   "cell_type": "code",
   "execution_count": 1,
   "metadata": {},
   "outputs": [],
   "source": [
    "import os\n",
    "import shutil"
   ]
  },
  {
   "cell_type": "code",
   "execution_count": null,
   "metadata": {},
   "outputs": [],
   "source": []
  },
  {
   "cell_type": "code",
   "execution_count": 3,
   "metadata": {},
   "outputs": [],
   "source": [
    "#data_filename = \"dogs-vs-cats.zip\"\n",
    "data_from_kaggle = \"data-from-kaggle/train/train\"\n",
    "#data_from_kaggle_test = \"data-from-kaggle/test1\"\n",
    "data_dirname = \"dogs-vs-cats\""
   ]
  },
  {
   "cell_type": "code",
   "execution_count": 4,
   "metadata": {},
   "outputs": [],
   "source": [
    "# subset_name: train, validation, test\n",
    "def make_dataset(subset_name, start_idx, end_idx):\n",
    "    for category in { \"cat\", \"dog\" }:\n",
    "       # data_dirname/subset_name/categoroy \n",
    "       dir = f\"{data_dirname}/{subset_name}/{category}\"\n",
    "       # print(dir)\n",
    "       os.makedirs(dir)\n",
    "       fnames = [f\"{category}.{i}.jpg\" for i in range(start_idx, end_idx)]\n",
    "       # print(fnames)\n",
    "       for fname in fnames: \n",
    "             shutil.copyfile(src=f\"{data_from_kaggle}/{fname}\", dst=f\"{dir}/{fname}\") "
   ]
  },
  {
   "cell_type": "code",
   "execution_count": null,
   "metadata": {},
   "outputs": [],
   "source": [
    "# total: 25,000/2 = 12,500 cats and dogs\n",
    "# 12,500*.6 = 7,500\n",
    "# training: 25*0.2 = 7500\n",
    "# test and val: 2,500 each\n",
    "make_dataset(\"train\", 0, 7500)\n",
    "make_dataset(\"validation\", 7501, 10000)\n",
    "# total: 12,500\n",
    "make_dataset(\"test\", 10001, 12500)"
   ]
  },
  {
   "cell_type": "code",
   "execution_count": 6,
   "metadata": {},
   "outputs": [],
   "source": [
    "from tensorflow import keras\n",
    "from tensorflow.keras import layers"
   ]
  },
  {
   "cell_type": "code",
   "execution_count": 7,
   "metadata": {},
   "outputs": [],
   "source": [
    "def build_model():\n",
    "    input = keras.Input(shape=(200, 180, 3))\n",
    "    x = layers.Rescaling(1./255)(input)\n",
    "    x = layers.Conv2D(filters=32, kernel_size=3, activation=\"relu\")(x)\n",
    "    x = layers.MaxPooling2D(pool_size=2)(x)\n",
    "    x = layers.Conv2D(filters=64, kernel_size=3, activation=\"relu\")(x)\n",
    "    x = layers.MaxPooling2D(pool_size=2)(x)\n",
    "    x = layers.Conv2D(filters=128, kernel_size=3, activation=\"relu\")(x)\n",
    "    x = layers.MaxPooling2D(pool_size=2)(x)\n",
    "    x = layers.Conv2D(filters=256, kernel_size=3, activation=\"relu\")(x)\n",
    "    x = layers.MaxPooling2D(pool_size=2)(x)\n",
    "    x = layers.Conv2D(filters=256, kernel_size=3, activation=\"relu\")(x)\n",
    "    x = layers.MaxPooling2D(pool_size=2)(x)\n",
    "    x = layers.Flatten()(x)\n",
    "    outputs = layers.Dense(1, activation=\"sigmoid\")(x)\n",
    "\n",
    "    model = keras.Model(inputs=input, outputs=outputs)\n",
    "    return model"
   ]
  },
  {
   "cell_type": "code",
   "execution_count": 8,
   "metadata": {},
   "outputs": [],
   "source": [
    "model = build_model()"
   ]
  },
  {
   "cell_type": "code",
   "execution_count": 9,
   "metadata": {},
   "outputs": [
    {
     "name": "stdout",
     "output_type": "stream",
     "text": [
      "Model: \"model\"\n",
      "_________________________________________________________________\n",
      " Layer (type)                Output Shape              Param #   \n",
      "=================================================================\n",
      " input_1 (InputLayer)        [(None, 200, 180, 3)]     0         \n",
      "                                                                 \n",
      " rescaling (Rescaling)       (None, 200, 180, 3)       0         \n",
      "                                                                 \n",
      " conv2d (Conv2D)             (None, 198, 178, 32)      896       \n",
      "                                                                 \n",
      " max_pooling2d (MaxPooling2  (None, 99, 89, 32)        0         \n",
      " D)                                                              \n",
      "                                                                 \n",
      " conv2d_1 (Conv2D)           (None, 97, 87, 64)        18496     \n",
      "                                                                 \n",
      " max_pooling2d_1 (MaxPoolin  (None, 48, 43, 64)        0         \n",
      " g2D)                                                            \n",
      "                                                                 \n",
      " conv2d_2 (Conv2D)           (None, 46, 41, 128)       73856     \n",
      "                                                                 \n",
      " max_pooling2d_2 (MaxPoolin  (None, 23, 20, 128)       0         \n",
      " g2D)                                                            \n",
      "                                                                 \n",
      " conv2d_3 (Conv2D)           (None, 21, 18, 256)       295168    \n",
      "                                                                 \n",
      " max_pooling2d_3 (MaxPoolin  (None, 10, 9, 256)        0         \n",
      " g2D)                                                            \n",
      "                                                                 \n",
      " conv2d_4 (Conv2D)           (None, 8, 7, 256)         590080    \n",
      "                                                                 \n",
      " max_pooling2d_4 (MaxPoolin  (None, 4, 3, 256)         0         \n",
      " g2D)                                                            \n",
      "                                                                 \n",
      " flatten (Flatten)           (None, 3072)              0         \n",
      "                                                                 \n",
      " dense (Dense)               (None, 1)                 3073      \n",
      "                                                                 \n",
      "=================================================================\n",
      "Total params: 981569 (3.74 MB)\n",
      "Trainable params: 981569 (3.74 MB)\n",
      "Non-trainable params: 0 (0.00 Byte)\n",
      "_________________________________________________________________\n"
     ]
    }
   ],
   "source": [
    "model.summary()"
   ]
  },
  {
   "cell_type": "code",
   "execution_count": 10,
   "metadata": {},
   "outputs": [],
   "source": [
    "model.compile(loss=\"binary_crossentropy\", optimizer=\"rmsprop\", metrics=[\"accuracy\"])"
   ]
  },
  {
   "cell_type": "code",
   "execution_count": 11,
   "metadata": {},
   "outputs": [],
   "source": [
    "from tensorflow.keras.utils import image_dataset_from_directory"
   ]
  },
  {
   "cell_type": "code",
   "execution_count": 12,
   "metadata": {},
   "outputs": [],
   "source": [
    "batch_size = 32"
   ]
  },
  {
   "cell_type": "code",
   "execution_count": 13,
   "metadata": {},
   "outputs": [
    {
     "name": "stdout",
     "output_type": "stream",
     "text": [
      "Found 15000 files belonging to 2 classes.\n",
      "Found 5996 files belonging to 2 classes.\n",
      "Found 6996 files belonging to 2 classes.\n"
     ]
    }
   ],
   "source": [
    "train_dataset = image_dataset_from_directory(f\"{data_dirname}/train\", image_size=(200, 180), batch_size=batch_size)\n",
    "validation_dataset = image_dataset_from_directory(f\"{data_dirname}/validation\", image_size=(200, 180), batch_size=batch_size)\n",
    "test_dataset = image_dataset_from_directory(f\"{data_dirname}/test\", image_size=(200, 180), batch_size=batch_size)"
   ]
  },
  {
   "cell_type": "code",
   "execution_count": 14,
   "metadata": {},
   "outputs": [],
   "source": [
    "callbacks = [ keras.callbacks.ModelCheckpoint(\n",
    "    filepath=\"module-from-scrach\",\n",
    "    save_best_only=False,\n",
    "    monitor=\"val_loss\"\n",
    ")]"
   ]
  },
  {
   "cell_type": "code",
   "execution_count": null,
   "metadata": {},
   "outputs": [
    {
     "name": "stdout",
     "output_type": "stream",
     "text": [
      "Epoch 1/10\n",
      "469/469 [==============================] - ETA: 0s - loss: 0.6337 - accuracy: 0.6273INFO:tensorflow:Assets written to: jaerock-in-class-from-scrach\\assets\n"
     ]
    },
    {
     "name": "stderr",
     "output_type": "stream",
     "text": [
      "INFO:tensorflow:Assets written to: jaerock-in-class-from-scrach\\assets\n"
     ]
    },
    {
     "name": "stdout",
     "output_type": "stream",
     "text": [
      "469/469 [==============================] - 518s 1s/step - loss: 0.6337 - accuracy: 0.6273 - val_loss: 0.5677 - val_accuracy: 0.7147\n",
      "Epoch 2/10\n",
      "469/469 [==============================] - ETA: 0s - loss: 0.5201 - accuracy: 0.7444INFO:tensorflow:Assets written to: jaerock-in-class-from-scrach\\assets\n"
     ]
    },
    {
     "name": "stderr",
     "output_type": "stream",
     "text": [
      "INFO:tensorflow:Assets written to: jaerock-in-class-from-scrach\\assets\n"
     ]
    },
    {
     "name": "stdout",
     "output_type": "stream",
     "text": [
      "469/469 [==============================] - 482s 1s/step - loss: 0.5201 - accuracy: 0.7444 - val_loss: 0.4953 - val_accuracy: 0.7679\n",
      "Epoch 3/10\n",
      "469/469 [==============================] - ETA: 0s - loss: 0.4239 - accuracy: 0.8038INFO:tensorflow:Assets written to: jaerock-in-class-from-scrach\\assets\n"
     ]
    },
    {
     "name": "stderr",
     "output_type": "stream",
     "text": [
      "INFO:tensorflow:Assets written to: jaerock-in-class-from-scrach\\assets\n"
     ]
    },
    {
     "name": "stdout",
     "output_type": "stream",
     "text": [
      "469/469 [==============================] - 478s 1s/step - loss: 0.4239 - accuracy: 0.8038 - val_loss: 0.4360 - val_accuracy: 0.7995\n",
      "Epoch 4/10\n",
      "469/469 [==============================] - ETA: 0s - loss: 0.3407 - accuracy: 0.8475INFO:tensorflow:Assets written to: jaerock-in-class-from-scrach\\assets\n"
     ]
    },
    {
     "name": "stderr",
     "output_type": "stream",
     "text": [
      "INFO:tensorflow:Assets written to: jaerock-in-class-from-scrach\\assets\n"
     ]
    },
    {
     "name": "stdout",
     "output_type": "stream",
     "text": [
      "469/469 [==============================] - 478s 1s/step - loss: 0.3407 - accuracy: 0.8475 - val_loss: 0.3273 - val_accuracy: 0.8609\n",
      "Epoch 5/10\n",
      "469/469 [==============================] - ETA: 0s - loss: 0.2738 - accuracy: 0.8802INFO:tensorflow:Assets written to: jaerock-in-class-from-scrach\\assets\n"
     ]
    },
    {
     "name": "stderr",
     "output_type": "stream",
     "text": [
      "INFO:tensorflow:Assets written to: jaerock-in-class-from-scrach\\assets\n"
     ]
    },
    {
     "name": "stdout",
     "output_type": "stream",
     "text": [
      "469/469 [==============================] - 475s 1s/step - loss: 0.2738 - accuracy: 0.8802 - val_loss: 0.3224 - val_accuracy: 0.8575\n",
      "Epoch 6/10\n",
      "469/469 [==============================] - ETA: 0s - loss: 0.2234 - accuracy: 0.9063INFO:tensorflow:Assets written to: jaerock-in-class-from-scrach\\assets\n"
     ]
    },
    {
     "name": "stderr",
     "output_type": "stream",
     "text": [
      "INFO:tensorflow:Assets written to: jaerock-in-class-from-scrach\\assets\n"
     ]
    },
    {
     "name": "stdout",
     "output_type": "stream",
     "text": [
      "469/469 [==============================] - 473s 1s/step - loss: 0.2234 - accuracy: 0.9063 - val_loss: 0.3112 - val_accuracy: 0.8675\n",
      "Epoch 7/10\n",
      "469/469 [==============================] - ETA: 0s - loss: 0.1749 - accuracy: 0.9272INFO:tensorflow:Assets written to: jaerock-in-class-from-scrach\\assets\n"
     ]
    },
    {
     "name": "stderr",
     "output_type": "stream",
     "text": [
      "INFO:tensorflow:Assets written to: jaerock-in-class-from-scrach\\assets\n"
     ]
    },
    {
     "name": "stdout",
     "output_type": "stream",
     "text": [
      "469/469 [==============================] - 479s 1s/step - loss: 0.1749 - accuracy: 0.9272 - val_loss: 0.2923 - val_accuracy: 0.8796\n",
      "Epoch 8/10\n",
      "469/469 [==============================] - ETA: 0s - loss: 0.1291 - accuracy: 0.9473INFO:tensorflow:Assets written to: jaerock-in-class-from-scrach\\assets\n"
     ]
    },
    {
     "name": "stderr",
     "output_type": "stream",
     "text": [
      "INFO:tensorflow:Assets written to: jaerock-in-class-from-scrach\\assets\n"
     ]
    },
    {
     "name": "stdout",
     "output_type": "stream",
     "text": [
      "469/469 [==============================] - 496s 1s/step - loss: 0.1291 - accuracy: 0.9473 - val_loss: 0.4455 - val_accuracy: 0.8697\n",
      "Epoch 9/10\n",
      "469/469 [==============================] - ETA: 0s - loss: 0.1055 - accuracy: 0.9588INFO:tensorflow:Assets written to: jaerock-in-class-from-scrach\\assets\n"
     ]
    },
    {
     "name": "stderr",
     "output_type": "stream",
     "text": [
      "INFO:tensorflow:Assets written to: jaerock-in-class-from-scrach\\assets\n"
     ]
    },
    {
     "name": "stdout",
     "output_type": "stream",
     "text": [
      "469/469 [==============================] - 483s 1s/step - loss: 0.1055 - accuracy: 0.9588 - val_loss: 0.4176 - val_accuracy: 0.8886\n",
      "Epoch 10/10\n",
      "469/469 [==============================] - ETA: 0s - loss: 0.0869 - accuracy: 0.9684INFO:tensorflow:Assets written to: jaerock-in-class-from-scrach\\assets\n"
     ]
    },
    {
     "name": "stderr",
     "output_type": "stream",
     "text": [
      "INFO:tensorflow:Assets written to: jaerock-in-class-from-scrach\\assets\n"
     ]
    },
    {
     "name": "stdout",
     "output_type": "stream",
     "text": [
      "469/469 [==============================] - 482s 1s/step - loss: 0.0869 - accuracy: 0.9684 - val_loss: 0.4495 - val_accuracy: 0.8824\n"
     ]
    },
    {
     "data": {
      "text/plain": [
       "<keras.src.callbacks.History at 0x20a473fd120>"
      ]
     },
     "execution_count": 41,
     "metadata": {},
     "output_type": "execute_result"
    }
   ],
   "source": [
    "model.fit(train_dataset, validation_data=validation_dataset, epochs=10, callbacks=callbacks)"
   ]
  },
  {
   "cell_type": "code",
   "execution_count": 15,
   "metadata": {},
   "outputs": [],
   "source": [
    "data_augmentation = keras.Sequential( [\n",
    "    layers.RandomFlip(\"horizontal\"),\n",
    "    layers.RandomRotation(0.2),\n",
    "    layers.RandomZoom(0.2)\n",
    "])"
   ]
  },
  {
   "cell_type": "code",
   "execution_count": 16,
   "metadata": {},
   "outputs": [],
   "source": [
    "data_augmentation = keras.Sequential( [\n",
    "    layers.RandomFlip(\"horizontal\"),\n",
    "    layers.RandomRotation(0.2),\n",
    "    layers.RandomZoom(0.2)\n",
    "])"
   ]
  },
  {
   "cell_type": "code",
   "execution_count": 18,
   "metadata": {},
   "outputs": [],
   "source": [
    "import os\n",
    "import shutil\n",
    "from tensorflow import keras\n",
    "from tensorflow.keras import layers\n",
    "from tensorflow.keras.preprocessing import image\n",
    "from tensorflow.keras.utils import image_dataset_from_directory\n",
    "\n",
    "class DogsCats:\n",
    "    def __init__(self):\n",
    "        self.model = self.build_model()\n",
    "\n",
    "    def build_model(self):\n",
    "        input = keras.Input(shape=(200, 180, 3))\n",
    "        x = layers.Rescaling(1./255)(input)\n",
    "        x = layers.Conv2D(filters=32, kernel_size=3, activation=\"relu\")(x)\n",
    "        x = layers.MaxPooling2D(pool_size=2)(x)\n",
    "        x = layers.Conv2D(filters=64, kernel_size=3, activation=\"relu\")(x)\n",
    "        x = layers.MaxPooling2D(pool_size=2)(x)\n",
    "        x = layers.Conv2D(filters=128, kernel_size=3, activation=\"relu\")(x)\n",
    "        x = layers.MaxPooling2D(pool_size=2)(x)\n",
    "        x = layers.Conv2D(filters=256, kernel_size=3, activation=\"relu\")(x)\n",
    "        x = layers.MaxPooling2D(pool_size=2)(x)\n",
    "        x = layers.Conv2D(filters=256, kernel_size=3, activation=\"relu\")(x)\n",
    "        x = layers.MaxPooling2D(pool_size=2)(x)\n",
    "        x = layers.Flatten()(x)\n",
    "        outputs = layers.Dense(1, activation=\"sigmoid\")(x)\n",
    "\n",
    "        model = keras.Model(inputs=input, outputs=outputs)\n",
    "        return model\n",
    "\n",
    "    def compile(self):\n",
    "        self.model.compile(loss=\"binary_crossentropy\", optimizer=\"rmsprop\", metrics=[\"accuracy\"])\n",
    "\n",
    "    def make_datasets(self, train_path, validation_path, test_path, batch_size=32, img_size=(200, 180)):\n",
    "        # Function to create dataset directories\n",
    "        def make_dataset(subset_name, start_idx, end_idx):\n",
    "            for category in {\"cat\", \"dog\"}:\n",
    "                subset_path = os.path.join(data_dirname, subset_name, category)\n",
    "                os.makedirs(subset_path, exist_ok=True)\n",
    "\n",
    "                for i in range(start_idx, end_idx):\n",
    "                    filename = f\"{category}.{i}.jpg\"\n",
    "                    src = os.path.join(data_from_kaggle, filename)\n",
    "                    dst = os.path.join(subset_path, filename)\n",
    "                    shutil.copyfile(src, dst)\n",
    "\n",
    "        # Create datasets with the specified number of samples\n",
    "        make_dataset(\"train\", 0, 1000)\n",
    "        make_dataset(\"validation\", 1001, 1500)\n",
    "        make_dataset(\"test\", 1501, 2500)\n",
    "\n",
    "        # Load datasets\n",
    "        train_dataset = self.create_dataset(train_path, batch_size, img_size)\n",
    "        validation_dataset = self.create_dataset(validation_path, batch_size, img_size)\n",
    "        test_dataset = self.create_dataset(test_path, batch_size, img_size)\n",
    "\n",
    "        return train_dataset, validation_dataset, test_dataset\n",
    "\n",
    "    def create_dataset(self, directory, batch_size, img_size):\n",
    "        dataset = image_dataset_from_directory(\n",
    "            directory,\n",
    "            batch_size=batch_size,\n",
    "            image_size=img_size,\n",
    "            shuffle=True,\n",
    "        )\n",
    "        return dataset\n",
    "\n",
    "    def fit(self, train_dataset, validation_dataset, epochs=10, callbacks=None):\n",
    "        history = self.model.fit(\n",
    "            train_dataset,\n",
    "            validation_data=validation_dataset,\n",
    "            epochs=epochs,\n",
    "            callbacks=callbacks\n",
    "        )\n",
    "\n",
    "        return history\n",
    "\n",
    "    def predict(self, model_name, file_name):\n",
    "        # Load the trained model\n",
    "        loaded_model = keras.models.load_model(model_name)\n",
    "\n",
    "        # Preprocess the image\n",
    "        img = image.load_img(file_name, target_size=(200, 180))\n",
    "        img_array = image.img_to_array(img)\n",
    "        img_array = img_array.reshape((1,) + img_array.shape)\n",
    "        img_array /= 255.0  # Normalize the image\n",
    "\n",
    "        # Make predictions\n",
    "        predictions = loaded_model.predict(img_array)\n",
    "        return predictions\n"
   ]
  },
  {
   "cell_type": "code",
   "execution_count": 23,
   "metadata": {},
   "outputs": [
    {
     "name": "stdout",
     "output_type": "stream",
     "text": [
      "INFO:tensorflow:Assets written to: dogs_cats_model_aug.pb\\assets\n"
     ]
    },
    {
     "name": "stderr",
     "output_type": "stream",
     "text": [
      "INFO:tensorflow:Assets written to: dogs_cats_model_aug.pb\\assets\n"
     ]
    },
    {
     "name": "stdout",
     "output_type": "stream",
     "text": [
      "1/1 [==============================] - 0s 105ms/step\n",
      "[[0.49998918]]\n"
     ]
    }
   ],
   "source": [
    "dogs_cats = DogsCats()\n",
    "dogs_cats.compile()\n",
    "model_name = 'dogs_cats_model_aug.pb'\n",
    "dogs_cats.model.save(model_name)\n",
    "# Create DogsCats instance\n",
    "\n",
    "file_name = 'C:\\\\Users\\\\pawar\\\\.conda\\\\envs\\\\ece5831-2023\\\\ece5831-assignments-2023\\\\ece5831-assignments\\\\ese5831-assignments\\\\assignment-8\\\\dogs-vs-cats\\\\test\\\\dog\\\\dog.1752.jpg'\n",
    "predictions = dogs_cats.predict(model_name, file_name)\n",
    "print(predictions)\n"
   ]
  },
  {
   "cell_type": "code",
   "execution_count": 20,
   "metadata": {},
   "outputs": [],
   "source": [
    "import os\n",
    "import shutil\n",
    "from tensorflow import keras\n",
    "from tensorflow.keras import layers\n",
    "from tensorflow.keras.preprocessing import image\n",
    "from tensorflow.keras.utils import image_dataset_from_directory\n",
    "\n",
    "class DogsCats:\n",
    "    def __init__(self):\n",
    "        self.model = self.build_model()\n",
    "\n",
    "    def build_model(self):\n",
    "        input = keras.Input(shape=(200, 180, 3))\n",
    "        data_augmentation = keras.Sequential( [\n",
    "        layers.RandomFlip(\"horizontal\"),\n",
    "        layers.RandomRotation(0.2),\n",
    "        layers.RandomZoom(0.2)])\n",
    "        x = data_augmentation(input)\n",
    "        x = layers.Rescaling(1./255)(input)\n",
    "        x = layers.Conv2D(filters=32, kernel_size=3, activation=\"relu\")(x)\n",
    "        x = layers.MaxPooling2D(pool_size=2)(x)\n",
    "        x = layers.Conv2D(filters=64, kernel_size=3, activation=\"relu\")(x)\n",
    "        x = layers.MaxPooling2D(pool_size=2)(x)\n",
    "        x = layers.Conv2D(filters=128, kernel_size=3, activation=\"relu\")(x)\n",
    "        x = layers.MaxPooling2D(pool_size=2)(x)\n",
    "        x = layers.Conv2D(filters=256, kernel_size=3, activation=\"relu\")(x)\n",
    "        x = layers.MaxPooling2D(pool_size=2)(x)\n",
    "        x = layers.Conv2D(filters=256, kernel_size=3, activation=\"relu\")(x)\n",
    "        x = layers.MaxPooling2D(pool_size=2)(x)\n",
    "        x = layers.Flatten()(x)\n",
    "        outputs = layers.Dense(1, activation=\"sigmoid\")(x)\n",
    "\n",
    "        model = keras.Model(inputs=input, outputs=outputs)\n",
    "        return model\n",
    "\n",
    "    def compile(self):\n",
    "        self.model.compile(loss=\"binary_crossentropy\", optimizer=\"rmsprop\", metrics=[\"accuracy\"])\n",
    "\n",
    "    def make_datasets(self, train_path, validation_path, test_path, batch_size=32, img_size=(200, 180)):\n",
    "        # Function to create dataset directories\n",
    "        def make_dataset(subset_name, start_idx, end_idx):\n",
    "            for category in {\"cat\", \"dog\"}:\n",
    "                subset_path = os.path.join(data_dirname, subset_name, category)\n",
    "                os.makedirs(subset_path, exist_ok=True)\n",
    "\n",
    "                for i in range(start_idx, end_idx):\n",
    "                    filename = f\"{category}.{i}.jpg\"\n",
    "                    src = os.path.join(data_from_kaggle, filename)\n",
    "                    dst = os.path.join(subset_path, filename)\n",
    "                    shutil.copyfile(src, dst)\n",
    "\n",
    "        # Create datasets with the specified number of samples\n",
    "        make_dataset(\"train\", 0, 1000)\n",
    "        make_dataset(\"validation\", 1001, 1500)\n",
    "        make_dataset(\"test\", 1501, 2500)\n",
    "\n",
    "        # Load datasets\n",
    "        train_dataset = self.create_dataset(train_path, batch_size, img_size)\n",
    "        validation_dataset = self.create_dataset(validation_path, batch_size, img_size)\n",
    "        test_dataset = self.create_dataset(test_path, batch_size, img_size)\n",
    "\n",
    "        return train_dataset, validation_dataset, test_dataset\n",
    "\n",
    "    def create_dataset(self, directory, batch_size, img_size):\n",
    "        dataset = image_dataset_from_directory(\n",
    "            directory,\n",
    "            batch_size=batch_size,\n",
    "            image_size=img_size,\n",
    "            shuffle=True\n",
    "        )\n",
    "        return dataset\n",
    "\n",
    "    def fit(self, train_dataset, validation_dataset, epochs=10, callbacks=None):\n",
    "        history = self.model.fit(\n",
    "            train_dataset,\n",
    "            validation_data=validation_dataset,\n",
    "            epochs=epochs,\n",
    "            callbacks=callbacks\n",
    "        )\n",
    "\n",
    "        return history\n",
    "\n",
    "    def predict(self, model_name, file_name):\n",
    "        # Load the trained model\n",
    "        loaded_model = keras.models.load_model(model_name)\n",
    "\n",
    "        # Preprocess the image\n",
    "        img = image.load_img(file_name, target_size=(200, 180))\n",
    "        img_array = image.img_to_array(img)\n",
    "        img_array = img_array.reshape((1,) + img_array.shape)\n",
    "        img_array /= 255.0  # Normalize the image\n",
    "\n",
    "        # Make predictions\n",
    "        predictions = loaded_model.predict(img_array)\n",
    "        return predictions\n"
   ]
  },
  {
   "cell_type": "code",
   "execution_count": 21,
   "metadata": {},
   "outputs": [
    {
     "name": "stdout",
     "output_type": "stream",
     "text": [
      "INFO:tensorflow:Assets written to: dogs_cats_model_aug.pb\\assets\n"
     ]
    },
    {
     "name": "stderr",
     "output_type": "stream",
     "text": [
      "INFO:tensorflow:Assets written to: dogs_cats_model_aug.pb\\assets\n"
     ]
    },
    {
     "name": "stdout",
     "output_type": "stream",
     "text": [
      "1/1 [==============================] - 0s 274ms/step\n",
      "[[0.5000383]]\n"
     ]
    }
   ],
   "source": [
    "dogs_cats = DogsCats()\n",
    "dogs_cats.compile()\n",
    "model_name = 'dogs_cats_model_aug.pb'\n",
    "dogs_cats.model.save(model_name)\n",
    "# Create DogsCats instance\n",
    "\n",
    "file_name = 'C:\\\\Users\\\\pawar\\\\.conda\\\\envs\\\\ece5831-2023\\\\ece5831-assignments-2023\\\\ece5831-assignments\\\\ese5831-assignments\\\\assignment-8\\\\dogs-vs-cats\\\\test\\\\dog\\\\dog.1752.jpg'\n",
    "predictions = dogs_cats.predict(model_name, file_name)\n",
    "print(predictions)"
   ]
  },
  {
   "cell_type": "code",
   "execution_count": 22,
   "metadata": {},
   "outputs": [
    {
     "name": "stdout",
     "output_type": "stream",
     "text": [
      "Found 6996 files belonging to 2 classes.\n",
      "219/219 [==============================] - 72s 326ms/step - loss: 0.6924 - accuracy: 0.5009\n",
      "Test Accuracy: 0.5008576512336731\n",
      "\n",
      "Predictions for Dogs:\n",
      "1/1 [==============================] - 0s 104ms/step\n",
      "Dog 1: 50.00% confident it's a Dog.\n",
      "1/1 [==============================] - 0s 29ms/step\n",
      "Dog 2: 50.00% confident it's a Dog.\n",
      "1/1 [==============================] - 0s 28ms/step\n",
      "Dog 3: 50.00% confident it's a Dog.\n",
      "1/1 [==============================] - 0s 32ms/step\n",
      "Dog 4: 50.01% confident it's a Dog.\n",
      "1/1 [==============================] - 0s 33ms/step\n",
      "Dog 5: 50.00% confident it's a Dog.\n",
      "1/1 [==============================] - 0s 36ms/step\n",
      "Dog 6: 50.00% confident it's a Dog.\n",
      "1/1 [==============================] - 0s 36ms/step\n",
      "Dog 7: 50.01% confident it's a Dog.\n",
      "1/1 [==============================] - 0s 38ms/step\n",
      "Dog 8: 50.01% confident it's a Dog.\n",
      "1/1 [==============================] - 0s 42ms/step\n",
      "Dog 9: 50.00% confident it's a Dog.\n",
      "1/1 [==============================] - 0s 31ms/step\n",
      "Dog 10: 50.00% confident it's a Dog.\n",
      "\n",
      "Predictions for Cats:\n",
      "1/1 [==============================] - 0s 37ms/step\n",
      "Cat 1: 50.00% confident it's a Cat.\n",
      "1/1 [==============================] - 0s 39ms/step\n",
      "Cat 2: 50.00% confident it's a Cat.\n",
      "1/1 [==============================] - 0s 35ms/step\n",
      "Cat 3: 50.00% confident it's a Cat.\n",
      "1/1 [==============================] - 0s 35ms/step\n",
      "Cat 4: 50.00% confident it's a Cat.\n",
      "1/1 [==============================] - 0s 34ms/step\n",
      "Cat 5: 50.00% confident it's a Cat.\n",
      "1/1 [==============================] - 0s 38ms/step\n",
      "Cat 6: 50.00% confident it's a Cat.\n",
      "1/1 [==============================] - 0s 39ms/step\n",
      "Cat 7: 50.00% confident it's a Cat.\n",
      "1/1 [==============================] - 0s 37ms/step\n",
      "Cat 8: 50.00% confident it's a Cat.\n",
      "1/1 [==============================] - 0s 39ms/step\n",
      "Cat 9: 50.00% confident it's a Cat.\n",
      "1/1 [==============================] - 0s 40ms/step\n",
      "Cat 10: 50.00% confident it's a Cat.\n"
     ]
    }
   ],
   "source": [
    "##\n",
    "\n",
    "# Set up paths\n",
    "data_dirname = \"dogs-vs-cats\"\n",
    "test_path = os.path.join(data_dirname, \"test\")\n",
    "\n",
    "# Load the saved model\n",
    "loaded_model = keras.models.load_model(model_name)\n",
    "\n",
    "# Evaluate the model on the test set\n",
    "test_dataset = dogs_cats.create_dataset(test_path, batch_size=32, img_size=(200, 180))\n",
    "test_loss, test_accuracy = loaded_model.evaluate(test_dataset)\n",
    "print(f\"Test Accuracy: {test_accuracy}\")\n",
    "\n",
    "# Show predictions on 10 images each from dogs and cats in the test set\n",
    "dogs_path = os.path.join(test_path, \"dog\")\n",
    "cats_path = os.path.join(test_path, \"cat\")\n",
    "\n",
    "dog_files = [os.path.join(dogs_path, f) for f in os.listdir(dogs_path)][:10]\n",
    "cat_files = [os.path.join(cats_path, f) for f in os.listdir(cats_path)][:10]\n",
    "\n",
    "# Function to make predictions and display results\n",
    "def predict_and_display(predictions, filenames, label):\n",
    "    print(f\"\\nPredictions for {label}s:\")\n",
    "    for i, file in enumerate(filenames):\n",
    "        img = image.load_img(file, target_size=(200, 180))\n",
    "        img_array = image.img_to_array(img)\n",
    "        img_array = img_array.reshape((1,) + img_array.shape)\n",
    "        img_array /= 255.0\n",
    "\n",
    "        prediction = loaded_model.predict(img_array)\n",
    "        print(f\"{label} {i+1}: {prediction[0][0]:.2%} confident it's a {label}.\")\n",
    "\n",
    "# Predict and display for dogs\n",
    "predict_and_display(loaded_model, dog_files, \"Dog\")\n",
    "\n",
    "# Predict and display for cats\n",
    "predict_and_display(loaded_model, cat_files, \"Cat\")\n"
   ]
  },
  {
   "cell_type": "code",
   "execution_count": null,
   "metadata": {},
   "outputs": [
    {
     "name": "stdout",
     "output_type": "stream",
     "text": [
      "dogs-vs-cats\\test\n"
     ]
    }
   ],
   "source": [
    "data_dirname = \"dogs-vs-cats\"\n",
    "test_path = os.path.join(data_dirname, \"test\")\n",
    "print(test_path)"
   ]
  }
 ],
 "metadata": {
  "kernelspec": {
   "display_name": "ece5831-2023-py3.10",
   "language": "python",
   "name": "python3"
  },
  "language_info": {
   "codemirror_mode": {
    "name": "ipython",
    "version": 3
   },
   "file_extension": ".py",
   "mimetype": "text/x-python",
   "name": "python",
   "nbconvert_exporter": "python",
   "pygments_lexer": "ipython3",
   "version": "3.10.13"
  }
 },
 "nbformat": 4,
 "nbformat_minor": 2
}
