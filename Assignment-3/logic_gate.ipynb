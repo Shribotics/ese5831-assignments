{
 "cells": [
  {
   "cell_type": "markdown",
   "metadata": {},
   "source": [
    "### LOGIC GATE IMPLEMENTATION"
   ]
  },
  {
   "cell_type": "markdown",
   "metadata": {},
   "source": [
    "## AND GATE"
   ]
  },
  {
   "cell_type": "code",
   "execution_count": 1,
   "metadata": {},
   "outputs": [],
   "source": [
    "def and_gate(x1,x2):\n",
    "    w1 = 0.5\n",
    "    w2 = 0.5\n",
    "    th = 0.99\n",
    "\n",
    "    if w1*x1 + w2*x2 > th:\n",
    "        return 1\n",
    "    else:\n",
    "        return 0"
   ]
  },
  {
   "cell_type": "code",
   "execution_count": 4,
   "metadata": {},
   "outputs": [],
   "source": [
    "x1 = 1\n",
    "x2 = 1\n",
    "output = and_gate(x1,x2)"
   ]
  },
  {
   "cell_type": "code",
   "execution_count": 7,
   "metadata": {},
   "outputs": [
    {
     "name": "stdout",
     "output_type": "stream",
     "text": [
      "the output of 1 AND 1 is 1\n"
     ]
    }
   ],
   "source": [
    "print(f'the output of {x1} AND {x2} is {output}')"
   ]
  },
  {
   "cell_type": "markdown",
   "metadata": {},
   "source": [
    "## Logic Gate Implementation"
   ]
  },
  {
   "cell_type": "code",
   "execution_count": 43,
   "metadata": {},
   "outputs": [],
   "source": [
    "class LogicGate:\n",
    "    def __init__(self):\n",
    "        self.w1 = None\n",
    "        self.w2 = None\n",
    "        self.th = None\n",
    "        self.out = None\n",
    "        self.x1 = self.x2 = None\n",
    "\n",
    "\n",
    "    def print_output(self, gate):\n",
    "        if gate == 'AND':\n",
    "            print(f'{self.x1} AND {self.x2} is {self.out}')\n",
    "        elif gate == 'OR':    \n",
    "            print(f'{self.x1} OR {self.x2} is {self.out}')\n",
    "        elif gate == 'NAND':    \n",
    "            print(f'{self.x1} NAND {self.x2} is {self.out}')\n",
    "        elif gate == 'NOR':    \n",
    "            print(f'{self.x1} NOR {self.x2} is {self.out}')\n",
    "    \n",
    "    def and_gate(self, x1, x2):\n",
    "        self.w1 = 0.5\n",
    "        self.w2 = 0.5\n",
    "        self.th = 0.99\n",
    "\n",
    "        self.x1 = x1\n",
    "        self.x2 = x2\n",
    "\n",
    "        if x1*self.w1 + x2*self.w2 > self.th:\n",
    "            self.out = 1\n",
    "            return 1\n",
    "        else:\n",
    "            self.out = 0\n",
    "            return 0\n",
    "    \n",
    "    def or_gate(self, x1, x2):\n",
    "        self.w1 = 0.5\n",
    "        self.w2 = 0.5\n",
    "        self.th = 0.0\n",
    "\n",
    "        self.x1 = x1\n",
    "        self.x2 = x2\n",
    "\n",
    "        if x1*self.w1 + x2*self.w2 > self.th:\n",
    "            self.out = 1\n",
    "            return 1\n",
    "        else:\n",
    "            self.out = 0\n",
    "            return 0        \n",
    "        \n",
    "    def nand_gate(self, x1, x2):\n",
    "        self.w1 = 0.5\n",
    "        self.w2 = 0.5\n",
    "        self.th = 0.99\n",
    "\n",
    "        self.x1 = x1\n",
    "        self.x2 = x2\n",
    "\n",
    "        if x1*self.w1 + x2*self.w2 < self.th:\n",
    "            self.out = 1\n",
    "            return 1\n",
    "        else:\n",
    "            self.out = 0\n",
    "            return 0\n",
    "        \n",
    "    def nor_gate(self, x1, x2):\n",
    "        self.w1 = 0.5\n",
    "        self.w2 = 0.5\n",
    "        self.th = 0.0\n",
    "\n",
    "        self.x1 = x1\n",
    "        self.x2 = x2\n",
    "\n",
    "        if x1*self.w1 + x2*self.w2 <= self.th:\n",
    "            self.out = 1\n",
    "            return 1\n",
    "        else:\n",
    "            self.out = 0\n",
    "            return 0"
   ]
  },
  {
   "cell_type": "code",
   "execution_count": 37,
   "metadata": {},
   "outputs": [],
   "source": [
    "logic_gate = LogicGate()"
   ]
  },
  {
   "cell_type": "markdown",
   "metadata": {},
   "source": [
    "# Testing AND Gate"
   ]
  },
  {
   "cell_type": "code",
   "execution_count": 3,
   "metadata": {},
   "outputs": [
    {
     "name": "stdout",
     "output_type": "stream",
     "text": [
      "1 AND 0 is 0\n"
     ]
    }
   ],
   "source": [
    "logic_gate.and_gate(1, 0)\n",
    "logic_gate.print_output('AND')"
   ]
  },
  {
   "cell_type": "code",
   "execution_count": 5,
   "metadata": {},
   "outputs": [
    {
     "name": "stdout",
     "output_type": "stream",
     "text": [
      "1 AND 1 is 1\n"
     ]
    }
   ],
   "source": [
    "logic_gate.and_gate(1, 1)\n",
    "logic_gate.print_output('AND')"
   ]
  },
  {
   "cell_type": "code",
   "execution_count": 6,
   "metadata": {},
   "outputs": [
    {
     "name": "stdout",
     "output_type": "stream",
     "text": [
      "0 AND 1 is 0\n"
     ]
    }
   ],
   "source": [
    "logic_gate.and_gate(0, 1)\n",
    "logic_gate.print_output('AND')"
   ]
  },
  {
   "cell_type": "code",
   "execution_count": 7,
   "metadata": {},
   "outputs": [
    {
     "name": "stdout",
     "output_type": "stream",
     "text": [
      "0 AND 0 is 0\n"
     ]
    }
   ],
   "source": [
    "logic_gate.and_gate(0, 0)\n",
    "logic_gate.print_output('AND')"
   ]
  },
  {
   "cell_type": "markdown",
   "metadata": {},
   "source": [
    "# Testing OR Gate"
   ]
  },
  {
   "cell_type": "code",
   "execution_count": 4,
   "metadata": {},
   "outputs": [
    {
     "name": "stdout",
     "output_type": "stream",
     "text": [
      "1 OR 0 is 1\n"
     ]
    }
   ],
   "source": [
    "logic_gate.or_gate(1, 0)\n",
    "logic_gate.print_output('OR')"
   ]
  },
  {
   "cell_type": "code",
   "execution_count": 8,
   "metadata": {},
   "outputs": [
    {
     "name": "stdout",
     "output_type": "stream",
     "text": [
      "1 OR 1 is 1\n"
     ]
    }
   ],
   "source": [
    "logic_gate.or_gate(1, 1)\n",
    "logic_gate.print_output('OR')"
   ]
  },
  {
   "cell_type": "code",
   "execution_count": 22,
   "metadata": {},
   "outputs": [
    {
     "name": "stdout",
     "output_type": "stream",
     "text": [
      "0 OR 1 is 1\n"
     ]
    }
   ],
   "source": [
    "logic_gate.or_gate(0, 1)\n",
    "logic_gate.print_output('OR')"
   ]
  },
  {
   "cell_type": "code",
   "execution_count": 10,
   "metadata": {},
   "outputs": [
    {
     "name": "stdout",
     "output_type": "stream",
     "text": [
      "0 OR 0 is 0\n"
     ]
    }
   ],
   "source": [
    "logic_gate.or_gate(0, 0)\n",
    "logic_gate.print_output('OR')"
   ]
  },
  {
   "cell_type": "markdown",
   "metadata": {},
   "source": [
    "# Testing NAND Gate"
   ]
  },
  {
   "cell_type": "code",
   "execution_count": 23,
   "metadata": {},
   "outputs": [
    {
     "name": "stdout",
     "output_type": "stream",
     "text": [
      "1 NAND 0 is 1\n"
     ]
    }
   ],
   "source": [
    "logic_gate.nand_gate(1, 0)\n",
    "logic_gate.print_output('NAND')"
   ]
  },
  {
   "cell_type": "code",
   "execution_count": 24,
   "metadata": {},
   "outputs": [
    {
     "name": "stdout",
     "output_type": "stream",
     "text": [
      "0 NAND 0 is 1\n"
     ]
    }
   ],
   "source": [
    "logic_gate.nand_gate(0, 0)\n",
    "logic_gate.print_output('NAND')"
   ]
  },
  {
   "cell_type": "code",
   "execution_count": 25,
   "metadata": {},
   "outputs": [
    {
     "name": "stdout",
     "output_type": "stream",
     "text": [
      "0 NAND 1 is 1\n"
     ]
    }
   ],
   "source": [
    "logic_gate.nand_gate(0, 1)\n",
    "logic_gate.print_output('NAND')"
   ]
  },
  {
   "cell_type": "code",
   "execution_count": 26,
   "metadata": {},
   "outputs": [
    {
     "name": "stdout",
     "output_type": "stream",
     "text": [
      "1 NAND 1 is 0\n"
     ]
    }
   ],
   "source": [
    "logic_gate.nand_gate(1, 1)\n",
    "logic_gate.print_output('NAND')"
   ]
  },
  {
   "cell_type": "markdown",
   "metadata": {},
   "source": [
    "# Testing NOR Gate"
   ]
  },
  {
   "cell_type": "code",
   "execution_count": 39,
   "metadata": {},
   "outputs": [
    {
     "name": "stdout",
     "output_type": "stream",
     "text": [
      "1 NOR 0 is 0\n"
     ]
    }
   ],
   "source": [
    "logic_gate.nor_gate(1, 0)\n",
    "logic_gate.print_output('NOR')"
   ]
  },
  {
   "cell_type": "code",
   "execution_count": 38,
   "metadata": {},
   "outputs": [
    {
     "name": "stdout",
     "output_type": "stream",
     "text": [
      "0 NOR 0 is 1\n"
     ]
    }
   ],
   "source": [
    "logic_gate.nor_gate(0, 0)\n",
    "logic_gate.print_output('NOR')"
   ]
  },
  {
   "cell_type": "code",
   "execution_count": 40,
   "metadata": {},
   "outputs": [
    {
     "name": "stdout",
     "output_type": "stream",
     "text": [
      "1 NOR 1 is 0\n"
     ]
    }
   ],
   "source": [
    "logic_gate.nor_gate(1, 1)\n",
    "logic_gate.print_output('NOR')"
   ]
  },
  {
   "cell_type": "code",
   "execution_count": 41,
   "metadata": {},
   "outputs": [
    {
     "name": "stdout",
     "output_type": "stream",
     "text": [
      "0 NOR 1 is 0\n"
     ]
    }
   ],
   "source": [
    "logic_gate.nor_gate(0, 1)\n",
    "logic_gate.print_output('NOR')"
   ]
  }
 ],
 "metadata": {
  "kernelspec": {
   "display_name": "ece5831-2023",
   "language": "python",
   "name": "python3"
  },
  "language_info": {
   "codemirror_mode": {
    "name": "ipython",
    "version": 3
   },
   "file_extension": ".py",
   "mimetype": "text/x-python",
   "name": "python",
   "nbconvert_exporter": "python",
   "pygments_lexer": "ipython3",
   "version": "3.8.18"
  },
  "orig_nbformat": 4
 },
 "nbformat": 4,
 "nbformat_minor": 2
}
