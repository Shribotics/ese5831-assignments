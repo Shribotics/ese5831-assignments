{
 "cells": [
  {
   "cell_type": "markdown",
   "metadata": {},
   "source": [
    "## Using dogs-cats-pre.py class"
   ]
  },
  {
   "cell_type": "code",
   "execution_count": 6,
   "metadata": {},
   "outputs": [
    {
     "name": "stdout",
     "output_type": "stream",
     "text": [
      "Found 2000 files belonging to 2 classes.\n",
      "Found 998 files belonging to 2 classes.\n",
      "Found 1998 files belonging to 2 classes.\n",
      "Epoch 1/10\n",
      "63/63 [==============================] - ETA: 0s - loss: 5.8090 - accuracy: 0.9160INFO:tensorflow:Assets written to: model-from-scratch\\assets\n"
     ]
    },
    {
     "name": "stderr",
     "output_type": "stream",
     "text": [
      "INFO:tensorflow:Assets written to: model-from-scratch\\assets\n"
     ]
    },
    {
     "name": "stdout",
     "output_type": "stream",
     "text": [
      "63/63 [==============================] - 389s 6s/step - loss: 5.8090 - accuracy: 0.9160 - val_loss: 1.0286 - val_accuracy: 0.9659\n",
      "Epoch 2/10\n",
      "63/63 [==============================] - ETA: 0s - loss: 1.1197 - accuracy: 0.9645INFO:tensorflow:Assets written to: model-from-scratch\\assets\n"
     ]
    },
    {
     "name": "stderr",
     "output_type": "stream",
     "text": [
      "INFO:tensorflow:Assets written to: model-from-scratch\\assets\n"
     ]
    },
    {
     "name": "stdout",
     "output_type": "stream",
     "text": [
      "63/63 [==============================] - 373s 6s/step - loss: 1.1197 - accuracy: 0.9645 - val_loss: 2.2544 - val_accuracy: 0.9519\n",
      "Epoch 3/10\n",
      "63/63 [==============================] - ETA: 0s - loss: 0.5679 - accuracy: 0.9825INFO:tensorflow:Assets written to: model-from-scratch\\assets\n"
     ]
    },
    {
     "name": "stderr",
     "output_type": "stream",
     "text": [
      "INFO:tensorflow:Assets written to: model-from-scratch\\assets\n"
     ]
    },
    {
     "name": "stdout",
     "output_type": "stream",
     "text": [
      "63/63 [==============================] - 373s 6s/step - loss: 0.5679 - accuracy: 0.9825 - val_loss: 0.5303 - val_accuracy: 0.9739\n",
      "Epoch 4/10\n",
      "63/63 [==============================] - ETA: 0s - loss: 0.1730 - accuracy: 0.9880INFO:tensorflow:Assets written to: model-from-scratch\\assets\n"
     ]
    },
    {
     "name": "stderr",
     "output_type": "stream",
     "text": [
      "INFO:tensorflow:Assets written to: model-from-scratch\\assets\n"
     ]
    },
    {
     "name": "stdout",
     "output_type": "stream",
     "text": [
      "63/63 [==============================] - 394s 6s/step - loss: 0.1730 - accuracy: 0.9880 - val_loss: 0.9764 - val_accuracy: 0.9729\n",
      "Epoch 5/10\n",
      "63/63 [==============================] - ETA: 0s - loss: 0.3763 - accuracy: 0.9880INFO:tensorflow:Assets written to: model-from-scratch\\assets\n"
     ]
    },
    {
     "name": "stderr",
     "output_type": "stream",
     "text": [
      "INFO:tensorflow:Assets written to: model-from-scratch\\assets\n"
     ]
    },
    {
     "name": "stdout",
     "output_type": "stream",
     "text": [
      "63/63 [==============================] - 369s 6s/step - loss: 0.3763 - accuracy: 0.9880 - val_loss: 0.9048 - val_accuracy: 0.9729\n",
      "Epoch 6/10\n",
      "63/63 [==============================] - ETA: 0s - loss: 0.1259 - accuracy: 0.9940INFO:tensorflow:Assets written to: model-from-scratch\\assets\n"
     ]
    },
    {
     "name": "stderr",
     "output_type": "stream",
     "text": [
      "INFO:tensorflow:Assets written to: model-from-scratch\\assets\n"
     ]
    },
    {
     "name": "stdout",
     "output_type": "stream",
     "text": [
      "63/63 [==============================] - 380s 6s/step - loss: 0.1259 - accuracy: 0.9940 - val_loss: 0.6363 - val_accuracy: 0.9760\n",
      "Epoch 7/10\n",
      "63/63 [==============================] - ETA: 0s - loss: 0.1951 - accuracy: 0.9940INFO:tensorflow:Assets written to: model-from-scratch\\assets\n"
     ]
    },
    {
     "name": "stderr",
     "output_type": "stream",
     "text": [
      "INFO:tensorflow:Assets written to: model-from-scratch\\assets\n"
     ]
    },
    {
     "name": "stdout",
     "output_type": "stream",
     "text": [
      "63/63 [==============================] - 370s 6s/step - loss: 0.1951 - accuracy: 0.9940 - val_loss: 0.7234 - val_accuracy: 0.9729\n",
      "Epoch 8/10\n",
      "63/63 [==============================] - ETA: 0s - loss: 0.1985 - accuracy: 0.9930INFO:tensorflow:Assets written to: model-from-scratch\\assets\n"
     ]
    },
    {
     "name": "stderr",
     "output_type": "stream",
     "text": [
      "INFO:tensorflow:Assets written to: model-from-scratch\\assets\n"
     ]
    },
    {
     "name": "stdout",
     "output_type": "stream",
     "text": [
      "63/63 [==============================] - 364s 6s/step - loss: 0.1985 - accuracy: 0.9930 - val_loss: 0.5905 - val_accuracy: 0.9810\n",
      "Epoch 9/10\n",
      "63/63 [==============================] - ETA: 0s - loss: 0.0489 - accuracy: 0.9970INFO:tensorflow:Assets written to: model-from-scratch\\assets\n"
     ]
    },
    {
     "name": "stderr",
     "output_type": "stream",
     "text": [
      "INFO:tensorflow:Assets written to: model-from-scratch\\assets\n"
     ]
    },
    {
     "name": "stdout",
     "output_type": "stream",
     "text": [
      "63/63 [==============================] - 373s 6s/step - loss: 0.0489 - accuracy: 0.9970 - val_loss: 0.7333 - val_accuracy: 0.9729\n",
      "Epoch 10/10\n",
      "63/63 [==============================] - ETA: 0s - loss: 0.0488 - accuracy: 0.9970INFO:tensorflow:Assets written to: model-from-scratch\\assets\n"
     ]
    },
    {
     "name": "stderr",
     "output_type": "stream",
     "text": [
      "INFO:tensorflow:Assets written to: model-from-scratch\\assets\n"
     ]
    },
    {
     "name": "stdout",
     "output_type": "stream",
     "text": [
      "63/63 [==============================] - 378s 6s/step - loss: 0.0488 - accuracy: 0.9970 - val_loss: 0.7223 - val_accuracy: 0.9739\n"
     ]
    }
   ],
   "source": [
    "import importlib\n",
    "import os\n",
    "import shutil\n",
    "from tensorflow import keras\n",
    "from tensorflow.keras import layers\n",
    "from tensorflow.keras.preprocessing import image\n",
    "from tensorflow.keras.utils import image_dataset_from_directory\n",
    "\n",
    "\n",
    "DogsCats = importlib.import_module('dogs-cats-pre')\n",
    "# Set up paths\n",
    "data_from_kaggle = \"data-from-kaggle/train/train\"\n",
    "data_dirname = \"dogs-vs-cats\"\n",
    "train_path = os.path.join(data_dirname, \"train\")\n",
    "validation_path = os.path.join(data_dirname, \"validation\")\n",
    "test_path = os.path.join(data_dirname, \"test\")\n",
    "\n",
    "# Create DogsCats instance\n",
    "dogs_cats = DogsCats.DogsCatsPre()\n",
    "\n",
    "# Make datasets\n",
    "train_dataset, validation_dataset, test_dataset = dogs_cats.make_datasets(train_path, validation_path, test_path)\n",
    "\n",
    "# Compile the model\n",
    "dogs_cats.compile()\n",
    "\n",
    "# Fit the model\n",
    "callbacks = [keras.callbacks.ModelCheckpoint(\n",
    "    filepath=\"model-from-scratch\",\n",
    "    save_best_only=False,\n",
    "    monitor=\"val_loss\"\n",
    ")]\n",
    "history = dogs_cats.fit(train_dataset, validation_dataset, epochs=10, callbacks=callbacks)\n",
    "\n",
    "# Save the model\n",
    "model_name = 'dogs_cats_model.keras'\n",
    "dogs_cats.model.save(model_name)"
   ]
  },
  {
   "cell_type": "markdown",
   "metadata": {},
   "source": [
    "# Checking the model accuracy with one image"
   ]
  },
  {
   "cell_type": "code",
   "execution_count": 11,
   "metadata": {},
   "outputs": [
    {
     "name": "stdout",
     "output_type": "stream",
     "text": [
      "1/1 [==============================] - 0s 284ms/step\n",
      "[[1.]]\n"
     ]
    }
   ],
   "source": [
    "model_name = 'dogs_cats_model.keras'\n",
    "dogs_cats.model.save(model_name)\n",
    "# Create DogsCats instance\n",
    "\n",
    "file_name = 'C:\\\\Users\\\\pawar\\\\.conda\\\\envs\\\\ece5831-2023\\\\ece5831-assignments-2023\\\\ece5831-assignments\\\\ese5831-assignments\\\\assignment-8\\\\dogs-vs-cats\\\\test\\\\dog\\\\dog.1758.jpg'\n",
    "predictions = dogs_cats.predict(model_name, file_name)\n",
    "print(predictions)"
   ]
  },
  {
   "cell_type": "markdown",
   "metadata": {},
   "source": [
    "# Testing and evaluating model"
   ]
  },
  {
   "cell_type": "code",
   "execution_count": 14,
   "metadata": {},
   "outputs": [
    {
     "name": "stdout",
     "output_type": "stream",
     "text": [
      "63/63 [==============================] - 266s 4s/step - loss: 0.7222 - accuracy: 0.9720\n",
      "Loss: 0.7222179770469666\n",
      "Accuracy: 0.9719719886779785\n"
     ]
    }
   ],
   "source": [
    "\n",
    "model_name = 'dogs_cats_model.keras'\n",
    "model = keras.models.load_model(model_name)\n",
    "\n",
    "        # Evaluate the model on the test dataset\n",
    "evaluation_result = model.evaluate(test_dataset)\n",
    "\n",
    "        # Display the evaluation metrics\n",
    "print(\"Loss:\", evaluation_result[0])\n",
    "print(\"Accuracy:\", evaluation_result[1])"
   ]
  },
  {
   "cell_type": "markdown",
   "metadata": {},
   "source": [
    "## Using dogs-cats-fine.py class"
   ]
  },
  {
   "cell_type": "code",
   "execution_count": 15,
   "metadata": {},
   "outputs": [
    {
     "name": "stdout",
     "output_type": "stream",
     "text": [
      "Found 2000 files belonging to 2 classes.\n",
      "Found 998 files belonging to 2 classes.\n",
      "Found 1998 files belonging to 2 classes.\n",
      "Epoch 1/5\n",
      "63/63 [==============================] - ETA: 0s - loss: 138.8628 - accuracy: 0.4960INFO:tensorflow:Assets written to: model-from-scratch\\assets\n"
     ]
    },
    {
     "name": "stderr",
     "output_type": "stream",
     "text": [
      "INFO:tensorflow:Assets written to: model-from-scratch\\assets\n"
     ]
    },
    {
     "name": "stdout",
     "output_type": "stream",
     "text": [
      "63/63 [==============================] - 483s 8s/step - loss: 138.8628 - accuracy: 0.4960 - val_loss: 0.6932 - val_accuracy: 0.5000\n",
      "Epoch 2/5\n",
      "63/63 [==============================] - ETA: 0s - loss: 0.6932 - accuracy: 0.4805INFO:tensorflow:Assets written to: model-from-scratch\\assets\n"
     ]
    },
    {
     "name": "stderr",
     "output_type": "stream",
     "text": [
      "INFO:tensorflow:Assets written to: model-from-scratch\\assets\n"
     ]
    },
    {
     "name": "stdout",
     "output_type": "stream",
     "text": [
      "63/63 [==============================] - 451s 7s/step - loss: 0.6932 - accuracy: 0.4805 - val_loss: 0.6932 - val_accuracy: 0.5000\n",
      "Epoch 3/5\n",
      "63/63 [==============================] - ETA: 0s - loss: 0.6932 - accuracy: 0.5010INFO:tensorflow:Assets written to: model-from-scratch\\assets\n"
     ]
    },
    {
     "name": "stderr",
     "output_type": "stream",
     "text": [
      "INFO:tensorflow:Assets written to: model-from-scratch\\assets\n"
     ]
    },
    {
     "name": "stdout",
     "output_type": "stream",
     "text": [
      "63/63 [==============================] - 438s 7s/step - loss: 0.6932 - accuracy: 0.5010 - val_loss: 0.6932 - val_accuracy: 0.5000\n",
      "Epoch 4/5\n",
      "63/63 [==============================] - ETA: 0s - loss: 0.6932 - accuracy: 0.4870INFO:tensorflow:Assets written to: model-from-scratch\\assets\n"
     ]
    },
    {
     "name": "stderr",
     "output_type": "stream",
     "text": [
      "INFO:tensorflow:Assets written to: model-from-scratch\\assets\n"
     ]
    },
    {
     "name": "stdout",
     "output_type": "stream",
     "text": [
      "63/63 [==============================] - 433s 7s/step - loss: 0.6932 - accuracy: 0.4870 - val_loss: 0.6932 - val_accuracy: 0.5000\n",
      "Epoch 5/5\n",
      "63/63 [==============================] - ETA: 0s - loss: 0.6931 - accuracy: 0.5105INFO:tensorflow:Assets written to: model-from-scratch\\assets\n"
     ]
    },
    {
     "name": "stderr",
     "output_type": "stream",
     "text": [
      "INFO:tensorflow:Assets written to: model-from-scratch\\assets\n"
     ]
    },
    {
     "name": "stdout",
     "output_type": "stream",
     "text": [
      "63/63 [==============================] - 425s 7s/step - loss: 0.6931 - accuracy: 0.5105 - val_loss: 0.6932 - val_accuracy: 0.5000\n"
     ]
    }
   ],
   "source": [
    "import importlib\n",
    "import os\n",
    "import shutil\n",
    "from tensorflow import keras\n",
    "from tensorflow.keras import layers\n",
    "from tensorflow.keras.preprocessing import image\n",
    "from tensorflow.keras.utils import image_dataset_from_directory\n",
    "\n",
    "\n",
    "DogsCats = importlib.import_module('dogs-cats-fine')\n",
    "# Set up paths\n",
    "data_from_kaggle = \"data-from-kaggle/train/train\"\n",
    "data_dirname = \"dogs-vs-cats\"\n",
    "train_path = os.path.join(data_dirname, \"train\")\n",
    "validation_path = os.path.join(data_dirname, \"validation\")\n",
    "test_path = os.path.join(data_dirname, \"test\")\n",
    "\n",
    "# Create DogsCats instance\n",
    "dogs_cats_aug = DogsCats.DogsCatsFine()\n",
    "\n",
    "# Make datasets\n",
    "train_dataset, validation_dataset, test_dataset = dogs_cats_aug.make_datasets(train_path, validation_path, test_path)\n",
    "\n",
    "# Compile the model\n",
    "dogs_cats_aug.compile()\n",
    "\n",
    "# Fit the model\n",
    "callbacks = [keras.callbacks.ModelCheckpoint(\n",
    "    filepath=\"model-from-scratch\",\n",
    "    save_best_only=False,\n",
    "    monitor=\"val_loss\"\n",
    ")]\n",
    "history = dogs_cats_aug.fit(train_dataset, validation_dataset, epochs=5, callbacks=callbacks)\n",
    "\n",
    "# Save the model\n",
    "model_name = 'dogs_cats_model_fine.keras'\n",
    "dogs_cats_aug.model.save(model_name)"
   ]
  },
  {
   "cell_type": "markdown",
   "metadata": {},
   "source": [
    "# Checking prediction using one image"
   ]
  },
  {
   "cell_type": "code",
   "execution_count": 17,
   "metadata": {},
   "outputs": [
    {
     "name": "stdout",
     "output_type": "stream",
     "text": [
      "1/1 [==============================] - 0s 267ms/step\n",
      "[[0.50074553]]\n"
     ]
    }
   ],
   "source": [
    "model_name = 'dogs_cats_model_fine.keras'\n",
    "file_name = 'C:\\\\Users\\\\pawar\\\\.conda\\\\envs\\\\ece5831-2023\\\\ece5831-assignments-2023\\\\ece5831-assignments\\\\ese5831-assignments\\\\assignment-8\\\\dogs-vs-cats\\\\test\\\\dog\\\\dog.1752.jpg'\n",
    "predictions = dogs_cats_aug.predict(model_name, file_name)\n",
    "print(predictions)"
   ]
  },
  {
   "cell_type": "markdown",
   "metadata": {},
   "source": [
    "# Testing Fine tune model"
   ]
  },
  {
   "cell_type": "code",
   "execution_count": 16,
   "metadata": {},
   "outputs": [
    {
     "name": "stdout",
     "output_type": "stream",
     "text": [
      "63/63 [==============================] - 252s 4s/step - loss: 0.6931 - accuracy: 0.5000\n",
      "Loss: 0.6931484341621399\n",
      "Accuracy: 0.5\n"
     ]
    }
   ],
   "source": [
    "\n",
    "model_name = 'dogs_cats_model_fine.keras'\n",
    "model = keras.models.load_model(model_name)\n",
    "\n",
    "        # Evaluate the model on the test dataset\n",
    "evaluation_result = model.evaluate(test_dataset)\n",
    "\n",
    "        # Display the evaluation metrics\n",
    "print(\"Loss:\", evaluation_result[0])\n",
    "print(\"Accuracy:\", evaluation_result[1])"
   ]
  }
 ],
 "metadata": {
  "kernelspec": {
   "display_name": "ece5831-2023-py3.10",
   "language": "python",
   "name": "python3"
  },
  "language_info": {
   "name": "python",
   "version": "3.10.13"
  }
 },
 "nbformat": 4,
 "nbformat_minor": 2
}
