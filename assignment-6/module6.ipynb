{
 "cells": [
  {
   "cell_type": "markdown",
   "metadata": {},
   "source": [
    "### Train.py "
   ]
  },
  {
   "cell_type": "markdown",
   "metadata": {},
   "source": [
    "# Import necessary libraries"
   ]
  },
  {
   "cell_type": "code",
   "execution_count": 1,
   "metadata": {},
   "outputs": [],
   "source": [
    "import numpy as np\n",
    "import pickle\n",
    "from two_layer_net import TwoLayerNet\n",
    "from mnist_data import MnistData"
   ]
  },
  {
   "cell_type": "markdown",
   "metadata": {},
   "source": []
  },
  {
   "cell_type": "code",
   "execution_count": 3,
   "metadata": {},
   "outputs": [
    {
     "name": "stdout",
     "output_type": "stream",
     "text": [
      "Done with loading images:  mnist/train-images-idx3-ubyte.gz\n",
      "Done with loading labels:  mnist/train-labels-idx1-ubyte.gz\n",
      "Done with loading images:  mnist/t10k-images-idx3-ubyte.gz\n",
      "Done with loading labels:  mnist/t10k-labels-idx1-ubyte.gz\n",
      "[87 93 23 81 55]\n",
      "epo 0\n"
     ]
    },
    {
     "ename": "KeyboardInterrupt",
     "evalue": "",
     "output_type": "error",
     "traceback": [
      "\u001b[1;31m---------------------------------------------------------------------------\u001b[0m",
      "\u001b[1;31mKeyboardInterrupt\u001b[0m                         Traceback (most recent call last)",
      "\u001b[1;32mc:\\Users\\pawar\\.conda\\envs\\ece5831-2023\\ece5831-assignments-2023\\ece5831-assignments\\ese5831-assignments\\assignment-6\\module6.ipynb Cell 5\u001b[0m line \u001b[0;36m2\n\u001b[0;32m     <a href='vscode-notebook-cell:/c%3A/Users/pawar/.conda/envs/ece5831-2023/ece5831-assignments-2023/ece5831-assignments/ese5831-assignments/assignment-6/module6.ipynb#W5sZmlsZQ%3D%3D?line=23'>24</a>\u001b[0m x_batch \u001b[39m=\u001b[39m x_train[batch_mask]\n\u001b[0;32m     <a href='vscode-notebook-cell:/c%3A/Users/pawar/.conda/envs/ece5831-2023/ece5831-assignments-2023/ece5831-assignments/ese5831-assignments/assignment-6/module6.ipynb#W5sZmlsZQ%3D%3D?line=24'>25</a>\u001b[0m t_batch \u001b[39m=\u001b[39m t_train[batch_mask]\n\u001b[1;32m---> <a href='vscode-notebook-cell:/c%3A/Users/pawar/.conda/envs/ece5831-2023/ece5831-assignments-2023/ece5831-assignments/ese5831-assignments/assignment-6/module6.ipynb#W5sZmlsZQ%3D%3D?line=26'>27</a>\u001b[0m grad \u001b[39m=\u001b[39m net\u001b[39m.\u001b[39;49mnumerical_gradient(x_batch, t_batch)\n\u001b[0;32m     <a href='vscode-notebook-cell:/c%3A/Users/pawar/.conda/envs/ece5831-2023/ece5831-assignments-2023/ece5831-assignments/ese5831-assignments/assignment-6/module6.ipynb#W5sZmlsZQ%3D%3D?line=27'>28</a>\u001b[0m \u001b[39mfor\u001b[39;00m key \u001b[39min\u001b[39;00m (\u001b[39m'\u001b[39m\u001b[39mw1\u001b[39m\u001b[39m'\u001b[39m, \u001b[39m'\u001b[39m\u001b[39mb1\u001b[39m\u001b[39m'\u001b[39m, \u001b[39m'\u001b[39m\u001b[39mw2\u001b[39m\u001b[39m'\u001b[39m, \u001b[39m'\u001b[39m\u001b[39mb2\u001b[39m\u001b[39m'\u001b[39m):\n\u001b[0;32m     <a href='vscode-notebook-cell:/c%3A/Users/pawar/.conda/envs/ece5831-2023/ece5831-assignments-2023/ece5831-assignments/ese5831-assignments/assignment-6/module6.ipynb#W5sZmlsZQ%3D%3D?line=28'>29</a>\u001b[0m     net\u001b[39m.\u001b[39mparams[key] \u001b[39m-\u001b[39m\u001b[39m=\u001b[39m learning_rate\u001b[39m*\u001b[39mgrad[key]\n",
      "File \u001b[1;32mc:\\Users\\pawar\\.conda\\envs\\ece5831-2023\\ece5831-assignments-2023\\ece5831-assignments\\ese5831-assignments\\assignment-6\\two_layer_net.py:35\u001b[0m, in \u001b[0;36mTwoLayerNet.numerical_gradient\u001b[1;34m(self, x, t)\u001b[0m\n\u001b[0;32m     33\u001b[0m loss_w \u001b[39m=\u001b[39m \u001b[39mlambda\u001b[39;00m w: \u001b[39mself\u001b[39m\u001b[39m.\u001b[39mloss(x, t)\n\u001b[0;32m     34\u001b[0m grads \u001b[39m=\u001b[39m {}\n\u001b[1;32m---> 35\u001b[0m grads[\u001b[39m'\u001b[39m\u001b[39mw1\u001b[39m\u001b[39m'\u001b[39m] \u001b[39m=\u001b[39m common\u001b[39m.\u001b[39;49mnumerical_gradient(loss_w, \u001b[39mself\u001b[39;49m\u001b[39m.\u001b[39;49mparams[\u001b[39m'\u001b[39;49m\u001b[39mw1\u001b[39;49m\u001b[39m'\u001b[39;49m])\n\u001b[0;32m     36\u001b[0m grads[\u001b[39m'\u001b[39m\u001b[39mb1\u001b[39m\u001b[39m'\u001b[39m] \u001b[39m=\u001b[39m common\u001b[39m.\u001b[39mnumerical_gradient(loss_w, \u001b[39mself\u001b[39m\u001b[39m.\u001b[39mparams[\u001b[39m'\u001b[39m\u001b[39mb1\u001b[39m\u001b[39m'\u001b[39m])\n\u001b[0;32m     37\u001b[0m grads[\u001b[39m'\u001b[39m\u001b[39mw2\u001b[39m\u001b[39m'\u001b[39m] \u001b[39m=\u001b[39m common\u001b[39m.\u001b[39mnumerical_gradient(loss_w, \u001b[39mself\u001b[39m\u001b[39m.\u001b[39mparams[\u001b[39m'\u001b[39m\u001b[39mw2\u001b[39m\u001b[39m'\u001b[39m])\n",
      "File \u001b[1;32mc:\\Users\\pawar\\.conda\\envs\\ece5831-2023\\ece5831-assignments-2023\\ece5831-assignments\\ese5831-assignments\\assignment-6\\common.py:52\u001b[0m, in \u001b[0;36mnumerical_gradient\u001b[1;34m(f, x)\u001b[0m\n\u001b[0;32m     50\u001b[0m grad \u001b[39m=\u001b[39m np\u001b[39m.\u001b[39mzeros_like(x)\n\u001b[0;32m     51\u001b[0m \u001b[39mfor\u001b[39;00m idx, x \u001b[39min\u001b[39;00m \u001b[39menumerate\u001b[39m(x):\n\u001b[1;32m---> 52\u001b[0m     grad[idx] \u001b[39m=\u001b[39m _numerical_gradient(f, x)\n\u001b[0;32m     54\u001b[0m \u001b[39mreturn\u001b[39;00m grad\n",
      "File \u001b[1;32mc:\\Users\\pawar\\.conda\\envs\\ece5831-2023\\ece5831-assignments-2023\\ece5831-assignments\\ese5831-assignments\\assignment-6\\common.py:37\u001b[0m, in \u001b[0;36m_numerical_gradient\u001b[1;34m(f, x)\u001b[0m\n\u001b[0;32m     35\u001b[0m \u001b[39m# for f(x - h)\u001b[39;00m\n\u001b[0;32m     36\u001b[0m x[idx] \u001b[39m=\u001b[39m tmp \u001b[39m-\u001b[39m h\n\u001b[1;32m---> 37\u001b[0m fh2 \u001b[39m=\u001b[39m f(x)\n\u001b[0;32m     39\u001b[0m grad[idx] \u001b[39m=\u001b[39m (fh1 \u001b[39m-\u001b[39m fh2)\u001b[39m/\u001b[39m(\u001b[39m2\u001b[39m\u001b[39m*\u001b[39mh)\n\u001b[0;32m     40\u001b[0m \u001b[39m# restore x[idx]\u001b[39;00m\n",
      "File \u001b[1;32mc:\\Users\\pawar\\.conda\\envs\\ece5831-2023\\ece5831-assignments-2023\\ece5831-assignments\\ese5831-assignments\\assignment-6\\two_layer_net.py:33\u001b[0m, in \u001b[0;36mTwoLayerNet.numerical_gradient.<locals>.<lambda>\u001b[1;34m(w)\u001b[0m\n\u001b[0;32m     32\u001b[0m \u001b[39mdef\u001b[39;00m \u001b[39mnumerical_gradient\u001b[39m(\u001b[39mself\u001b[39m, x, t):\n\u001b[1;32m---> 33\u001b[0m     loss_w \u001b[39m=\u001b[39m \u001b[39mlambda\u001b[39;00m w: \u001b[39mself\u001b[39;49m\u001b[39m.\u001b[39;49mloss(x, t)\n\u001b[0;32m     34\u001b[0m     grads \u001b[39m=\u001b[39m {}\n\u001b[0;32m     35\u001b[0m     grads[\u001b[39m'\u001b[39m\u001b[39mw1\u001b[39m\u001b[39m'\u001b[39m] \u001b[39m=\u001b[39m common\u001b[39m.\u001b[39mnumerical_gradient(loss_w, \u001b[39mself\u001b[39m\u001b[39m.\u001b[39mparams[\u001b[39m'\u001b[39m\u001b[39mw1\u001b[39m\u001b[39m'\u001b[39m])\n",
      "File \u001b[1;32mc:\\Users\\pawar\\.conda\\envs\\ece5831-2023\\ece5831-assignments-2023\\ece5831-assignments\\ese5831-assignments\\assignment-6\\two_layer_net.py:29\u001b[0m, in \u001b[0;36mTwoLayerNet.loss\u001b[1;34m(self, x, t)\u001b[0m\n\u001b[0;32m     27\u001b[0m \u001b[39mdef\u001b[39;00m \u001b[39mloss\u001b[39m(\u001b[39mself\u001b[39m, x, t):\n\u001b[0;32m     28\u001b[0m     y \u001b[39m=\u001b[39m \u001b[39mself\u001b[39m\u001b[39m.\u001b[39mpredict(x)\n\u001b[1;32m---> 29\u001b[0m     \u001b[39mreturn\u001b[39;00m common\u001b[39m.\u001b[39;49mcross_entropy_error(y, t)\n",
      "File \u001b[1;32mc:\\Users\\pawar\\.conda\\envs\\ece5831-2023\\ece5831-assignments-2023\\ece5831-assignments\\ese5831-assignments\\assignment-6\\common.py:20\u001b[0m, in \u001b[0;36mcross_entropy_error\u001b[1;34m(y, t)\u001b[0m\n\u001b[0;32m     17\u001b[0m     y \u001b[39m=\u001b[39m y\u001b[39m.\u001b[39mreshape(\u001b[39m1\u001b[39m, y\u001b[39m.\u001b[39msize)\n\u001b[0;32m     19\u001b[0m batch_size \u001b[39m=\u001b[39m y\u001b[39m.\u001b[39mshape[\u001b[39m0\u001b[39m] \n\u001b[1;32m---> 20\u001b[0m \u001b[39mreturn\u001b[39;00m \u001b[39m-\u001b[39mnp\u001b[39m.\u001b[39msum(t \u001b[39m*\u001b[39m np\u001b[39m.\u001b[39;49mlog(y \u001b[39m+\u001b[39;49m \u001b[39m1e-7\u001b[39;49m))\u001b[39m/\u001b[39mbatch_size\n",
      "\u001b[1;31mKeyboardInterrupt\u001b[0m: "
     ]
    }
   ],
   "source": [
    "mnist_data = MnistData()\n",
    "(x_train, t_train), (x_test, t_test) = mnist_data.load()\n",
    "\n",
    "x_t = np.random.rand(100)\n",
    "batch_mask = np.random.choice(100, 5)\n",
    "print(batch_mask)\n",
    "x_t[batch_mask]\n",
    "\n",
    "# hyper parameters\n",
    "iters_num = 50\n",
    "train_size = x_train.shape[0]\n",
    "batch_size = 64\n",
    "learning_rate = 0.01\n",
    "\n",
    "train_loss = []\n",
    "\n",
    "input_size = 28*28 # 784\n",
    "net = TwoLayerNet(input_size=input_size, hidden_size=100, output_size=10)\n",
    "\n",
    "for i in range(iters_num):\n",
    "    # mini-batch\n",
    "    print (\"epo\", i)\n",
    "    batch_mask = np.random.choice(train_size, batch_size)\n",
    "    x_batch = x_train[batch_mask]\n",
    "    t_batch = t_train[batch_mask]\n",
    "\n",
    "    grad = net.numerical_gradient(x_batch, t_batch)\n",
    "    for key in ('w1', 'b1', 'w2', 'b2'):\n",
    "        net.params[key] -= learning_rate*grad[key]\n",
    "\n",
    "loss = net.loss(x_batch, t_batch)\n",
    "train_loss.append(loss)\n",
    "\n",
    "with open(\"shrikant_mnist_nn_model.pkl\",\"wb\") as f:\n",
    "    pickle.dump(net, f)"
   ]
  },
  {
   "cell_type": "markdown",
   "metadata": {},
   "source": [
    "## Test.py"
   ]
  },
  {
   "cell_type": "code",
   "execution_count": 4,
   "metadata": {},
   "outputs": [],
   "source": [
    "import numpy as np\n",
    "from PIL import Image\n",
    "import matplotlib.pyplot as plt\n",
    "import pickle\n",
    "import sys\n",
    "import two_layer_net as tl"
   ]
  },
  {
   "cell_type": "code",
   "execution_count": 7,
   "metadata": {},
   "outputs": [
    {
     "name": "stdout",
     "output_type": "stream",
     "text": [
      "1\n",
      "1.0\n",
      "0.1190363704708684\n",
      "Image at the location is predicted as 1 with 11.903637047086841%.\n"
     ]
    }
   ],
   "source": [
    "def load_images(file_path):\n",
    "        images = Image.open(file_path)\n",
    "        #images.show()\n",
    "        images = images.resize((28, 28))\n",
    "        grey_img = images.convert(\"L\")\n",
    "        img_array = np.array(grey_img)\n",
    "        img_array = img_array.reshape(28*28)\n",
    "        return img_array/255.0\n",
    "\n",
    "\n",
    "img_size = 28*28\n",
    "model_path = 'shrikant_mnist_nn_model.pkl'\n",
    "img_path = 'images/7_1.png'\n",
    "\n",
    "with open(model_path, 'rb') as f:\n",
    "    network = pickle.load(f)\n",
    "\n",
    "network_object = tl.TwoLayerNet\n",
    "\n",
    "y = network_object.predict(network, load_images(img_path))\n",
    "\n",
    "y_hat = np.argmax(y)\n",
    "y_certainty = y[y_hat]\n",
    "\n",
    "print(y_hat)\n",
    "print(np.sum(y))\n",
    "\n",
    "print(y_certainty)\n",
    "\n",
    "print(f'Image at the location is predicted as {y_hat} with {y_certainty * 100}%.')\n",
    "\n"
   ]
  }
 ],
 "metadata": {
  "kernelspec": {
   "display_name": "ece5831-2023",
   "language": "python",
   "name": "python3"
  },
  "language_info": {
   "codemirror_mode": {
    "name": "ipython",
    "version": 3
   },
   "file_extension": ".py",
   "mimetype": "text/x-python",
   "name": "python",
   "nbconvert_exporter": "python",
   "pygments_lexer": "ipython3",
   "version": "3.8.18"
  }
 },
 "nbformat": 4,
 "nbformat_minor": 2
}
