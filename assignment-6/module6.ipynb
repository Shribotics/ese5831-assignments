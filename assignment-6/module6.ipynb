{
 "cells": [
  {
   "cell_type": "markdown",
   "metadata": {},
   "source": [
    "# Train.py "
   ]
  },
  {
   "cell_type": "markdown",
   "metadata": {},
   "source": [
    "### Import necessary libraries"
   ]
  },
  {
   "cell_type": "code",
   "execution_count": 1,
   "metadata": {},
   "outputs": [],
   "source": [
    "import numpy as np\n",
    "import pickle\n",
    "from two_layer_net import TwoLayerNet\n",
    "from mnist_data import MnistData"
   ]
  },
  {
   "cell_type": "markdown",
   "metadata": {},
   "source": []
  },
  {
   "cell_type": "code",
   "execution_count": null,
   "metadata": {},
   "outputs": [],
   "source": [
    "mnist_data = MnistData()\n",
    "(x_train, t_train), (x_test, t_test) = mnist_data.load()\n",
    "\n",
    "x_t = np.random.rand(100)\n",
    "batch_mask = np.random.choice(100, 5)\n",
    "print(batch_mask)\n",
    "x_t[batch_mask]\n",
    "\n",
    "# hyper parameters\n",
    "iters_num = 50\n",
    "train_size = x_train.shape[0]\n",
    "batch_size = 64\n",
    "learning_rate = 0.01\n",
    "\n",
    "train_loss = []\n",
    "\n",
    "input_size = 28*28 # 784\n",
    "net = TwoLayerNet(input_size=input_size, hidden_size=100, output_size=10)\n",
    "\n",
    "for i in range(iters_num):\n",
    "    # mini-batch\n",
    "    print (\"epo\", i)\n",
    "    batch_mask = np.random.choice(train_size, batch_size)\n",
    "    x_batch = x_train[batch_mask]\n",
    "    t_batch = t_train[batch_mask]\n",
    "\n",
    "    grad = net.numerical_gradient(x_batch, t_batch)\n",
    "    for key in ('w1', 'b1', 'w2', 'b2'):\n",
    "        net.params[key] -= learning_rate*grad[key]\n",
    "\n",
    "loss = net.loss(x_batch, t_batch)\n",
    "train_loss.append(loss)\n",
    "\n",
    "with open(\"shrikant_mnist_nn_model.pkl\",\"wb\") as f:\n",
    "    pickle.dump(net, f)"
   ]
  },
  {
   "cell_type": "markdown",
   "metadata": {},
   "source": [
    "# Test.py"
   ]
  },
  {
   "cell_type": "code",
   "execution_count": 9,
   "metadata": {},
   "outputs": [],
   "source": [
    "import numpy as np\n",
    "from PIL import Image\n",
    "import matplotlib.pyplot as plt\n",
    "import pickle\n",
    "import sys\n",
    "import two_layer_net as tl"
   ]
  },
  {
   "cell_type": "markdown",
   "metadata": {},
   "source": [
    "# Load Images"
   ]
  },
  {
   "cell_type": "code",
   "execution_count": 10,
   "metadata": {},
   "outputs": [],
   "source": [
    "def load_images(file_path):\n",
    "        images = Image.open(file_path)\n",
    "        #images.show()\n",
    "        images = images.resize((28, 28))\n",
    "        grey_img = images.convert(\"L\")\n",
    "        img_array = np.array(grey_img)\n",
    "        img_array = img_array.reshape(28*28)\n",
    "        return img_array/255.0\n",
    "\n",
    "\n"
   ]
  },
  {
   "cell_type": "markdown",
   "metadata": {},
   "source": [
    "### Defining image size and path"
   ]
  },
  {
   "cell_type": "code",
   "execution_count": 11,
   "metadata": {},
   "outputs": [],
   "source": [
    "img_size = 28*28\n",
    "model_path = 'shrikant_mnist_nn_model.pkl'\n",
    "img_path = 'images/7_1.png'"
   ]
  },
  {
   "cell_type": "markdown",
   "metadata": {},
   "source": [
    "### import model and check the performane"
   ]
  },
  {
   "cell_type": "code",
   "execution_count": 12,
   "metadata": {},
   "outputs": [
    {
     "name": "stdout",
     "output_type": "stream",
     "text": [
      "1\n",
      "1.0\n",
      "0.1190363704708684\n",
      "Image at the location is predicted as 1 with 11.903637047086841%.\n"
     ]
    }
   ],
   "source": [
    "with open(model_path, 'rb') as f:\n",
    "    network = pickle.load(f)\n",
    "\n",
    "network_object = tl.TwoLayerNet\n",
    "\n",
    "y = network_object.predict(network, load_images(img_path))\n",
    "\n",
    "y_hat = np.argmax(y)\n",
    "y_certainty = y[y_hat]\n",
    "\n",
    "print(y_hat)\n",
    "print(np.sum(y))\n",
    "\n",
    "print(y_certainty)\n",
    "\n",
    "print(f'Image at the location is predicted as {y_hat} with {y_certainty * 100}%.')"
   ]
  }
 ],
 "metadata": {
  "kernelspec": {
   "display_name": "ece5831-2023",
   "language": "python",
   "name": "python3"
  },
  "language_info": {
   "codemirror_mode": {
    "name": "ipython",
    "version": 3
   },
   "file_extension": ".py",
   "mimetype": "text/x-python",
   "name": "python",
   "nbconvert_exporter": "python",
   "pygments_lexer": "ipython3",
   "version": "3.8.18"
  }
 },
 "nbformat": 4,
 "nbformat_minor": 2
}
